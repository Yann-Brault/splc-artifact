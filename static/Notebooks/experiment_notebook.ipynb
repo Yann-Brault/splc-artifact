{
 "cells": [
  {
   "attachments": {},
   "cell_type": "markdown",
   "id": "f37a26a8",
   "metadata": {},
   "source": [
    "# This notebook is the base model you should replicate"
   ]
  },
  {
   "cell_type": "code",
   "execution_count": null,
   "id": "de804625",
   "metadata": {},
   "outputs": [],
   "source": [
    "from sklearn.preprocessing import RobustScaler\n",
    "from sklearn.ensemble import RandomForestClassifier\n",
    "from sklearn.metrics import f1_score\n"
   ]
  },
  {
   "cell_type": "markdown",
   "id": "69cb08ec",
   "metadata": {},
   "source": [
    "# Data import cell\n",
    "To import your data, add a code cell to import it as you want\n",
    "\n"
   ]
  },
  {
   "cell_type": "code",
   "execution_count": null,
   "id": "92aff3b6",
   "metadata": {},
   "outputs": [],
   "source": [
    "from sklearn.model_selection import train_test_split\n",
    "\n",
    "x_train, x_test, y_train, y_test = train_test_split(x, y, test_size=0.2, random_state=1)\n",
    "x_train, x_val, y_train, y_val = train_test_split(x_train, y_train, test_size=0.25, random_state=1)\n"
   ]
  },
  {
   "cell_type": "markdown",
   "id": "51e5f274",
   "metadata": {},
   "source": [
    "# Train\n"
   ]
  },
  {
   "cell_type": "code",
   "execution_count": null,
   "id": "109627dd",
   "metadata": {},
   "outputs": [],
   "source": [
    "# Data treatment\n",
    "# Normalization/RobustScaler\n",
    "\n",
    "def transformer_train(obj, x_data):\n",
    "    obj.fit(x_data)\n",
    "    return obj.transform(x_data)\n",
    "\n",
    "transformer = RobustScaler()\n",
    "x_train_normalized = transformer_train(transformer, x_train)"
   ]
  },
  {
   "cell_type": "code",
   "execution_count": null,
   "id": "8a719634",
   "metadata": {},
   "outputs": [],
   "source": [
    "# Model training\n",
    "# Algo/RandomForest\n",
    "\n",
    "def clf_train(obj, x_data, y_data):\n",
    "    return obj.fit(x_data, y_data)\n",
    "\n",
    "clf = RandomForestClassifier(max_depth=2, random_state=0)\n",
    "model = clf_train(clf, x_train_transformed, y_train_augmented)"
   ]
  },
  {
   "cell_type": "markdown",
   "id": "661beab1",
   "metadata": {},
   "source": [
    "# Valid\n"
   ]
  },
  {
   "cell_type": "code",
   "execution_count": null,
   "id": "b6ad08d7",
   "metadata": {},
   "outputs": [],
   "source": [
    "# Data treatment\n",
    "# Normalization/RobustScaler\n",
    "\n",
    "def transformer_valid(obj, x_data):\n",
    "    return obj.transform(x_data)\n",
    "\n",
    "x_valid_normalized = transformer_valid(transformer, x_val)"
   ]
  },
  {
   "cell_type": "code",
   "execution_count": null,
   "id": "bb796756",
   "metadata": {},
   "outputs": [],
   "source": [
    "# Prediction\n",
    "# Algo/RandomForest\n",
    "\n",
    "def clf_predict(obj, x_data):\n",
    "    return obj.predict(x_data)\n",
    "\n",
    "y_pred_valid = clf_predict(clf, x_valid_transformed)"
   ]
  },
  {
   "cell_type": "code",
   "execution_count": null,
   "id": "ec1bf02b",
   "metadata": {},
   "outputs": [],
   "source": [
    "# Evaluation\n",
    "# Metrics/Fscore\n",
    "\n",
    "def generated_fscore_valid(y_data, pred):\n",
    "    return f1_score(y_data, pred, average='macro')\n",
    "\n",
    "valid_score = generated_fscore_valid(y_val, y_pred_valid)\n",
    "print(f'score: {valid_score}')\n",
    "\n",
    "# suggestion: visualise your data here"
   ]
  },
  {
   "cell_type": "markdown",
   "id": "080aa997",
   "metadata": {},
   "source": [
    "# Test\n"
   ]
  },
  {
   "cell_type": "code",
   "execution_count": null,
   "id": "4baecdfe",
   "metadata": {},
   "outputs": [],
   "source": [
    "# Data treatment\n",
    "# Normalization/RobustScaler\n",
    "\n",
    "def transformer_test(obj, x_data):\n",
    "    return obj.transform(x_data)\n",
    "\n",
    "x_test_normalized = transformer_test(transformer, x_test)"
   ]
  },
  {
   "cell_type": "code",
   "execution_count": null,
   "id": "96f32109",
   "metadata": {},
   "outputs": [],
   "source": [
    "# Prediction\n",
    "# Algo/RandomForest\n",
    "\n",
    "def clf_predict(obj, x_data):\n",
    "    return obj.predict(x_data)\n",
    "\n",
    "y_pred = clf_predict(clf, x_test_transformed)"
   ]
  },
  {
   "cell_type": "code",
   "execution_count": null,
   "id": "52a8ebb1",
   "metadata": {},
   "outputs": [],
   "source": [
    "# Evaluation\n",
    "# Metrics/Fscore\n",
    "\n",
    "def generated_fscore(y_data, pred):\n",
    "    return f1_score(y_data, pred, average='macro')\n",
    "\n",
    "score = generated_fscore(y_test, y_pred)\n",
    "print(f'score: {score}')\n",
    "\n",
    "# suggestion: visualise your data here"
   ]
  }
 ],
 "metadata": {
  "language_info": {
   "name": "python"
  }
 },
 "nbformat": 4,
 "nbformat_minor": 5
}
