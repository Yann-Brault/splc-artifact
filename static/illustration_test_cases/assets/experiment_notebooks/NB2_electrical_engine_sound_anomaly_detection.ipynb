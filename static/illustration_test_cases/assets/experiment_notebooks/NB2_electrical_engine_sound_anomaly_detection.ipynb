{
 "cells": [
  {
   "cell_type": "code",
   "execution_count": 1,
   "id": "4557a6b9",
   "metadata": {
    "tags": []
   },
   "outputs": [
    {
     "name": "stderr",
     "output_type": "stream",
     "text": [
      "2023-06-08 18:14:01.038843: I tensorflow/core/util/port.cc:110] oneDNN custom operations are on. You may see slightly different numerical results due to floating-point round-off errors from different computation orders. To turn them off, set the environment variable `TF_ENABLE_ONEDNN_OPTS=0`.\n",
      "2023-06-08 18:14:01.040076: I tensorflow/tsl/cuda/cudart_stub.cc:28] Could not find cuda drivers on your machine, GPU will not be used.\n",
      "2023-06-08 18:14:01.062707: I tensorflow/tsl/cuda/cudart_stub.cc:28] Could not find cuda drivers on your machine, GPU will not be used.\n",
      "2023-06-08 18:14:01.063833: I tensorflow/core/platform/cpu_feature_guard.cc:182] This TensorFlow binary is optimized to use available CPU instructions in performance-critical operations.\n",
      "To enable the following instructions: AVX2 AVX_VNNI FMA, in other operations, rebuild TensorFlow with the appropriate compiler flags.\n",
      "2023-06-08 18:14:01.416984: W tensorflow/compiler/tf2tensorrt/utils/py_utils.cc:38] TF-TRT Warning: Could not find TensorRT\n"
     ]
    }
   ],
   "source": [
    "import os \n",
    "import time\n",
    "import pandas as pd\n",
    "\n",
    "\n",
    "import keras \n",
    "import tensorflow as tf\n",
    "from keras import Sequential\n",
    "from keras.layers import LSTM\n",
    "from keras.layers import Dense\n",
    "from keras.layers import BatchNormalization\n",
    "from keras.layers import TimeDistributed\n",
    "from keras.models import Model\n",
    "from keras.layers import Conv2D\n",
    "from keras.layers import LeakyReLU\n",
    "from keras.layers import Activation\n",
    "from keras.layers import Flatten\n",
    "from keras.layers import Reshape\n",
    "from keras.layers import Input\n",
    "\n",
    "from keras import layers\n",
    "from keras.layers import Conv2DTranspose\n",
    "from keras import backend as K\n",
    "import numpy as np\n",
    "import librosa\n",
    "import matplotlib.pyplot as plt\n",
    "import librosa.display\n",
    "\n",
    "from sklearn.preprocessing import MinMaxScaler\n",
    "from sklearn.metrics import f1_score\n"
   ]
  },
  {
   "attachments": {},
   "cell_type": "markdown",
   "id": "0b2c0126",
   "metadata": {
    "tags": []
   },
   "source": [
    "# Electrical engine sound anomaly detection"
   ]
  },
  {
   "attachments": {},
   "cell_type": "markdown",
   "id": "5689dae5",
   "metadata": {},
   "source": [
    "## Model setup ( CNN AutoEncoder ) "
   ]
  },
  {
   "cell_type": "code",
   "execution_count": 2,
   "id": "980a0884",
   "metadata": {
    "tags": []
   },
   "outputs": [],
   "source": [
    "class ConvAutoencoder:\n",
    "    @staticmethod\n",
    "    def build(width, height, depth, filters=(32, 64), latentDim=50):\n",
    "        # initialize the input shape to be \"channels last\" along with\n",
    "        # the channels dimension itself\n",
    "        # channels dimension itself\n",
    "        inputShape = (height, width, depth)\n",
    "        chanDim = -1\n",
    "        # define the input to the encoder\n",
    "        inputs = Input(shape=inputShape)\n",
    "        x = inputs\n",
    "        # loop over the number of filters\n",
    "        for f in filters:\n",
    "        # apply a CONV => RELU => BN operation\n",
    "            x = Conv2D(f, (3, 3), strides=2, padding=\"same\")(x)\n",
    "            x = LeakyReLU(alpha=0.2)(x)\n",
    "            x = BatchNormalization(axis=chanDim)(x)\n",
    "        # flatten the network and then construct our latent vector\n",
    "        volumeSize = K.int_shape(x)\n",
    "        x = Flatten()(x)\n",
    "        latent = Dense(latentDim)(x)\n",
    "        # build the encoder model\n",
    "        encoder = Model(inputs, latent, name=\"encoder\")\n",
    "        # start building the decoder model which will accept the\n",
    "        # output of the encoder as its inputs\n",
    "        latentInputs = Input(shape=(latentDim,))\n",
    "        x = Dense(np.prod(volumeSize[1:]))(latentInputs)\n",
    "        x = Reshape((volumeSize[1], volumeSize[2], volumeSize[3]))(x)\n",
    "        # loop over our number of filters again, but this time in\n",
    "        # reverse order\n",
    "        for f in filters[::-1]:\n",
    "            # apply a CONV_TRANSPOSE => RELU => BN operation\n",
    "            x = Conv2DTranspose(f, (3, 3), strides=2,\n",
    "                padding=\"same\")(x)\n",
    "            x = LeakyReLU(alpha=0.2)(x)\n",
    "            x = BatchNormalization(axis=chanDim)(x)\n",
    "        # apply a single CONV_TRANSPOSE layer used to recover the\n",
    "        # original depth of the image\n",
    "        x = Conv2DTranspose(depth, (3, 3), padding=\"same\")(x)\n",
    "        outputs = Activation(\"sigmoid\")(x)\n",
    "        # build the decoder model\n",
    "        decoder = Model(latentInputs, outputs, name=\"decoder\")\n",
    "        # our autoencoder is the encoder + decoder\n",
    "        autoencoder = Model(inputs, decoder(encoder(inputs)),\n",
    "        name=\"autoencoder\")\n",
    "        optimizer = tf.keras.optimizers.Adam(learning_rate=0.01)\n",
    "        autoencoder.compile(loss=\"mse\", optimizer=optimizer)\n",
    "        return autoencoder"
   ]
  },
  {
   "attachments": {},
   "cell_type": "markdown",
   "id": "ed733201",
   "metadata": {},
   "source": [
    "## Data formating"
   ]
  },
  {
   "cell_type": "code",
   "execution_count": null,
   "id": "3740c134",
   "metadata": {
    "tags": []
   },
   "outputs": [],
   "source": [
    "def build_spectrograms(input_folder,saving_folder):\n",
    "    files = librosa.util.find_files(input_folder, ext=['wav']) \n",
    "    files = np.asarray(files)\n",
    "    for y in files:  \n",
    "        data = librosa.load(y, sr = 16000,mono = True)   \n",
    "        data = data[0]     \n",
    "        S_left = librosa.stft(data, center=True)\n",
    "        fig, ax = plt.subplots()\n",
    "        img = librosa.display.specshow(librosa.amplitude_to_db(S_left,\n",
    "                                                               ref=np.max),\n",
    "                                       y_axis='log', x_axis='time', ax=ax)\n",
    "        ax.set_title('Power spectrogram')\n",
    "        fig.colorbar(img, ax=ax, format=\"%+2.0f dB\")\n",
    "        file_name = y.split('/')[-1].split('.')[0]\n",
    "        plt.savefig(f\"{saving_folder}/{file_name}.png\")\n",
    "   "
   ]
  },
  {
   "cell_type": "code",
   "execution_count": null,
   "id": "1db7d23b-46c2-4072-a509-46d4fd22967c",
   "metadata": {
    "tags": []
   },
   "outputs": [],
   "source": [
    "# load and transform sound to spectrogram\n",
    "folders = [(\"./dataset/IDMT-ISA-ELECTRIC-ENGINE/train_cut/engine1_good\",\"./dataset/Spectrograms/train_cut/engine1_good\"),\n",
    "           (\"./dataset/IDMT-ISA-ELECTRIC-ENGINE/train_cut/engine2_broken\",\"./dataset/Spectrograms/train_cut/engine2_broken\"),\n",
    "           (\"./dataset/IDMT-ISA-ELECTRIC-ENGINE/train_cut/engine3_heavyload\",\"./dataset/Spectrograms/train_cut/engine3_heavyload\"),\n",
    "           (\"./dataset/IDMT-ISA-ELECTRIC-ENGINE/test_cut/engine1_good\",\"./dataset/Spectrograms/test_cut/engine1_good\"),\n",
    "           (\"./dataset/IDMT-ISA-ELECTRIC-ENGINE/test_cut/engine2_broken\",\"./dataset/Spectrograms/test_cut/engine2_broken\"),\n",
    "           (\"./dataset/IDMT-ISA-ELECTRIC-ENGINE/test_cut/engine3_heavyload\",\"./dataset/Spectrograms/test_cut/engine3_heavyload\")]\n",
    "\n",
    "for input_folder,saving_folder in folders:\n",
    "    build_spectrograms(input_folder,saving_folder)"
   ]
  },
  {
   "attachments": {},
   "cell_type": "markdown",
   "id": "2bc74013",
   "metadata": {},
   "source": [
    "## Spectrograms loading"
   ]
  },
  {
   "cell_type": "code",
   "execution_count": 3,
   "id": "71b5e344",
   "metadata": {
    "tags": []
   },
   "outputs": [],
   "source": [
    "# Custom loading of training data\n",
    "train_folder = \"dataset/Spectrograms/train_cut/\"\n",
    "train_images = []\n",
    "ano_images = [] \n",
    "class_data = [\"engine1_good\",\"engine2_broken\",\"engine3_heavyload\"]\n",
    "for label in class_data:\n",
    "    for i,img in enumerate(os.listdir(f\"{train_folder}/{label}/\")):\n",
    "        if 'png' in img:\n",
    "            image = tf.keras.utils.load_img(f\"{train_folder}/{label}/{img}\",color_mode = \"grayscale\",target_size=(200, 200))\n",
    "            input_arr = tf.keras.utils.img_to_array(image)/255.0\n",
    "            if label in [\"engine1_good\",\"engine3_heavyload\"]:    \n",
    "                train_images.append(input_arr)\n",
    "            else:\n",
    "                ano_images.append(input_arr)\n"
   ]
  },
  {
   "cell_type": "code",
   "execution_count": 4,
   "id": "b4aa0d82",
   "metadata": {
    "tags": []
   },
   "outputs": [],
   "source": [
    "X_train0_CAE = np.array(train_images) # Training data without anomalies\n",
    "X_train1_CAE = np.array(ano_images) # Training data with anomalies"
   ]
  },
  {
   "cell_type": "code",
   "execution_count": 5,
   "id": "dc2f69c8",
   "metadata": {
    "tags": []
   },
   "outputs": [],
   "source": [
    "# Custom loading of test data\n",
    "test_folder = \"dataset/Spectrograms/test_cut\"\n",
    "test_images0 = []\n",
    "test_images1 = [] \n",
    "class_data = [\"engine1_good\",\"engine2_broken\",\"engine3_heavyload\"]\n",
    "for label in class_data:\n",
    "    for i,img in enumerate(os.listdir(f\"{test_folder}/{label}/\")):\n",
    "        if 'png' in img:\n",
    "            image = tf.keras.utils.load_img(f\"{test_folder}/{label}/{img}\",color_mode = \"grayscale\",target_size=(200, 200))\n",
    "            input_arr = tf.keras.utils.img_to_array(image)/255.0\n",
    "            if label in [\"engine1_good\",\"engine3_heavyload\"]:    \n",
    "                test_images0.append(input_arr)\n",
    "            else:\n",
    "                test_images1.append(input_arr)"
   ]
  },
  {
   "cell_type": "code",
   "execution_count": 6,
   "id": "7492a01c",
   "metadata": {
    "tags": []
   },
   "outputs": [],
   "source": [
    "X_test0CAE = np.array(test_images0) # Test data without anomalies\n",
    "X_test1CAE = np.array(test_images1) # Test data with anomalies"
   ]
  },
  {
   "attachments": {},
   "cell_type": "markdown",
   "id": "fe2ae1aa",
   "metadata": {
    "tags": []
   },
   "source": [
    "## Model learning"
   ]
  },
  {
   "cell_type": "code",
   "execution_count": 7,
   "id": "213baef7",
   "metadata": {
    "tags": []
   },
   "outputs": [],
   "source": [
    "CAE = ConvAutoencoder.build(200, 200, 1) # Model architecture "
   ]
  },
  {
   "cell_type": "code",
   "execution_count": 8,
   "id": "eb0b38ed",
   "metadata": {
    "tags": []
   },
   "outputs": [
    {
     "name": "stdout",
     "output_type": "stream",
     "text": [
      "Epoch 1/50\n",
      "24/24 [==============================] - 4s 137ms/step - loss: 0.0410\n",
      "Epoch 2/50\n",
      "24/24 [==============================] - 3s 137ms/step - loss: 0.0100\n",
      "Epoch 3/50\n",
      "24/24 [==============================] - 3s 136ms/step - loss: 0.0054\n",
      "Epoch 4/50\n",
      "24/24 [==============================] - 3s 137ms/step - loss: 0.0035\n",
      "Epoch 5/50\n",
      "24/24 [==============================] - 3s 138ms/step - loss: 0.0027\n",
      "Epoch 6/50\n",
      "24/24 [==============================] - 3s 139ms/step - loss: 0.0026\n",
      "Epoch 7/50\n",
      "24/24 [==============================] - 4s 156ms/step - loss: 0.0021\n",
      "Epoch 8/50\n",
      "24/24 [==============================] - 4s 161ms/step - loss: 0.0018\n",
      "Epoch 9/50\n",
      "24/24 [==============================] - 4s 157ms/step - loss: 0.0017\n",
      "Epoch 10/50\n",
      "24/24 [==============================] - 4s 161ms/step - loss: 0.0018\n",
      "Epoch 11/50\n",
      "24/24 [==============================] - 4s 158ms/step - loss: 0.0017\n",
      "Epoch 12/50\n",
      "24/24 [==============================] - 4s 163ms/step - loss: 0.0021\n",
      "Epoch 13/50\n",
      "24/24 [==============================] - 4s 156ms/step - loss: 0.0019\n",
      "Epoch 14/50\n",
      "24/24 [==============================] - 4s 160ms/step - loss: 0.0016\n",
      "Epoch 15/50\n",
      "24/24 [==============================] - 4s 157ms/step - loss: 0.0016\n",
      "Epoch 16/50\n",
      "24/24 [==============================] - 4s 161ms/step - loss: 0.0017\n",
      "Epoch 17/50\n",
      "24/24 [==============================] - 4s 160ms/step - loss: 0.0015\n",
      "Epoch 18/50\n",
      "24/24 [==============================] - 4s 158ms/step - loss: 0.0015\n",
      "Epoch 19/50\n",
      "24/24 [==============================] - 4s 160ms/step - loss: 0.0015\n",
      "Epoch 20/50\n",
      "24/24 [==============================] - 4s 158ms/step - loss: 0.0015\n",
      "Epoch 21/50\n",
      "24/24 [==============================] - 4s 158ms/step - loss: 0.0014\n",
      "Epoch 22/50\n",
      "24/24 [==============================] - 4s 160ms/step - loss: 0.0014\n",
      "Epoch 23/50\n",
      "24/24 [==============================] - 4s 160ms/step - loss: 0.0014\n",
      "Epoch 24/50\n",
      "24/24 [==============================] - 4s 166ms/step - loss: 0.0015\n",
      "Epoch 25/50\n",
      "24/24 [==============================] - 4s 160ms/step - loss: 0.0015\n",
      "Epoch 26/50\n",
      "24/24 [==============================] - 4s 158ms/step - loss: 0.0014\n",
      "Epoch 27/50\n",
      "24/24 [==============================] - 4s 166ms/step - loss: 0.0015\n",
      "Epoch 28/50\n",
      "24/24 [==============================] - 4s 162ms/step - loss: 0.0014\n",
      "Epoch 29/50\n",
      "24/24 [==============================] - 4s 167ms/step - loss: 0.0014\n",
      "Epoch 30/50\n",
      "24/24 [==============================] - 4s 166ms/step - loss: 0.0014\n",
      "Epoch 31/50\n",
      "24/24 [==============================] - 4s 165ms/step - loss: 0.0014\n",
      "Epoch 32/50\n",
      "24/24 [==============================] - 4s 166ms/step - loss: 0.0014\n",
      "Epoch 33/50\n",
      "24/24 [==============================] - 4s 169ms/step - loss: 0.0014\n",
      "Epoch 34/50\n",
      "24/24 [==============================] - 4s 165ms/step - loss: 0.0014\n",
      "Epoch 35/50\n",
      "24/24 [==============================] - 4s 169ms/step - loss: 0.0013\n",
      "Epoch 36/50\n",
      "24/24 [==============================] - 4s 166ms/step - loss: 0.0013\n",
      "Epoch 37/50\n",
      "24/24 [==============================] - 4s 159ms/step - loss: 0.0013\n",
      "Epoch 38/50\n",
      "24/24 [==============================] - 4s 167ms/step - loss: 0.0013\n",
      "Epoch 39/50\n",
      "24/24 [==============================] - 4s 159ms/step - loss: 0.0013\n",
      "Epoch 40/50\n",
      "24/24 [==============================] - 4s 161ms/step - loss: 0.0014\n",
      "Epoch 41/50\n",
      "24/24 [==============================] - 4s 160ms/step - loss: 0.0014\n",
      "Epoch 42/50\n",
      "24/24 [==============================] - 4s 159ms/step - loss: 0.0013\n",
      "Epoch 43/50\n",
      "24/24 [==============================] - 4s 166ms/step - loss: 0.0013\n",
      "Epoch 44/50\n",
      "24/24 [==============================] - 4s 164ms/step - loss: 0.0013\n",
      "Epoch 45/50\n",
      "24/24 [==============================] - 4s 166ms/step - loss: 0.0012\n",
      "Epoch 46/50\n",
      "24/24 [==============================] - 4s 167ms/step - loss: 0.0013\n",
      "Epoch 47/50\n",
      "24/24 [==============================] - 4s 163ms/step - loss: 0.0012\n",
      "Epoch 48/50\n",
      "24/24 [==============================] - 4s 161ms/step - loss: 0.0012\n",
      "Epoch 49/50\n",
      "24/24 [==============================] - 4s 157ms/step - loss: 0.0012\n",
      "Epoch 50/50\n",
      "24/24 [==============================] - 4s 158ms/step - loss: 0.0013\n",
      "model trained in 3.1920048077901204 minutes\n"
     ]
    }
   ],
   "source": [
    "start = time.time()\n",
    "callback = tf.keras.callbacks.EarlyStopping(monitor='loss', patience=10)\n",
    "CAE.fit(X_train0_CAE,X_train0_CAE, epochs=50,batch_size = 10, verbose = True, callbacks= [callback])\n",
    "print(f\"model trained in {(time.time()-start)/60} minutes\")"
   ]
  },
  {
   "cell_type": "code",
   "execution_count": 9,
   "id": "2663aac4-371c-41c7-99e7-42bf10f66ff0",
   "metadata": {
    "tags": []
   },
   "outputs": [],
   "source": [
    "CAE.save('CAE200_200.h5')"
   ]
  },
  {
   "cell_type": "markdown",
   "id": "d2089159",
   "metadata": {
    "tags": []
   },
   "source": [
    "## Prediction"
   ]
  },
  {
   "cell_type": "code",
   "execution_count": 10,
   "id": "4fff08b0",
   "metadata": {
    "tags": []
   },
   "outputs": [
    {
     "name": "stdout",
     "output_type": "stream",
     "text": [
      "34/34 [==============================] - 4s 120ms/step\n",
      "21/21 [==============================] - 3s 134ms/step\n"
     ]
    }
   ],
   "source": [
    "prediction_test0CAE = CAE.predict(X_test0CAE)\n",
    "prediction_test1CAE = CAE.predict(X_test1CAE)"
   ]
  },
  {
   "cell_type": "code",
   "execution_count": 11,
   "id": "227ed88a",
   "metadata": {
    "tags": []
   },
   "outputs": [],
   "source": [
    "r_e_test0CAE = np.sum(np.sum((X_test0CAE-prediction_test0CAE) ** 2, axis=1),axis=1)\n",
    "r_e_test1CAE = np.sum(np.sum((X_test1CAE-prediction_test1CAE) ** 2, axis=1),axis=1)"
   ]
  },
  {
   "cell_type": "code",
   "execution_count": 12,
   "id": "9cf1d128-d77f-40d9-afdd-27da2860c028",
   "metadata": {
    "tags": []
   },
   "outputs": [],
   "source": [
    "re_test = np.concatenate((r_e_test0CAE, r_e_test1CAE))"
   ]
  },
  {
   "cell_type": "code",
   "execution_count": 13,
   "id": "bd83b13c-c02b-4a59-b45c-5a0b502446ff",
   "metadata": {
    "tags": []
   },
   "outputs": [],
   "source": [
    "threshold_t_CAE = np.quantile(re_test,0.7)"
   ]
  },
  {
   "cell_type": "code",
   "execution_count": 14,
   "id": "16b5ee96",
   "metadata": {
    "tags": []
   },
   "outputs": [],
   "source": [
    "decision0CAE = -r_e_test0CAE + threshold_t_CAE\n",
    "decision1CAE = -r_e_test1CAE + threshold_t_CAE\n",
    "df0CAE = pd.DataFrame(decision0CAE, columns=['v'])\n",
    "df1CAE = pd.DataFrame(decision1CAE, columns=['v'])\n",
    "decision1CAE = -r_e_test1CAE"
   ]
  },
  {
   "cell_type": "code",
   "execution_count": 15,
   "id": "44841250",
   "metadata": {
    "tags": []
   },
   "outputs": [],
   "source": [
    "# Computing f1 score of majority class\n",
    "recall = len(df1CAE[df1CAE.v<0])/len(df1CAE)\n",
    "precision = len(df1CAE[df1CAE.v<0])/(len(df1CAE[df1CAE.v<0])+len(df0CAE[df0CAE.v<0]))\n",
    "f1 = 2*precision*recall/(precision+recall)"
   ]
  },
  {
   "cell_type": "code",
   "execution_count": 16,
   "id": "f0244e5e",
   "metadata": {
    "tags": []
   },
   "outputs": [],
   "source": [
    "# Computing f1 score of majority class\n",
    "recall_maj = len(df0CAE[df0CAE.v>0])/len(df0CAE)\n",
    "precision_maj = len(df0CAE[df0CAE.v>0])/(len(df1CAE[df1CAE.v>0])+len(df0CAE[df0CAE.v>0]))\n",
    "f1_maj = 2*precision_maj*recall_maj/(precision_maj+recall_maj)"
   ]
  },
  {
   "cell_type": "code",
   "execution_count": 17,
   "id": "d4df64b2-2cbd-4576-a2a2-b2559f79ab90",
   "metadata": {
    "tags": []
   },
   "outputs": [
    {
     "data": {
      "text/html": [
       "<div>\n",
       "<style scoped>\n",
       "    .dataframe tbody tr th:only-of-type {\n",
       "        vertical-align: middle;\n",
       "    }\n",
       "\n",
       "    .dataframe tbody tr th {\n",
       "        vertical-align: top;\n",
       "    }\n",
       "\n",
       "    .dataframe thead th {\n",
       "        text-align: right;\n",
       "    }\n",
       "</style>\n",
       "<table border=\"1\" class=\"dataframe\">\n",
       "  <thead>\n",
       "    <tr style=\"text-align: right;\">\n",
       "      <th></th>\n",
       "      <th>v</th>\n",
       "    </tr>\n",
       "  </thead>\n",
       "  <tbody>\n",
       "    <tr>\n",
       "      <th>count</th>\n",
       "      <td>665.000000</td>\n",
       "    </tr>\n",
       "    <tr>\n",
       "      <th>mean</th>\n",
       "      <td>-87.757378</td>\n",
       "    </tr>\n",
       "    <tr>\n",
       "      <th>std</th>\n",
       "      <td>334.923065</td>\n",
       "    </tr>\n",
       "    <tr>\n",
       "      <th>min</th>\n",
       "      <td>-1891.271973</td>\n",
       "    </tr>\n",
       "    <tr>\n",
       "      <th>25%</th>\n",
       "      <td>-149.579773</td>\n",
       "    </tr>\n",
       "    <tr>\n",
       "      <th>50%</th>\n",
       "      <td>49.199219</td>\n",
       "    </tr>\n",
       "    <tr>\n",
       "      <th>75%</th>\n",
       "      <td>113.198730</td>\n",
       "    </tr>\n",
       "    <tr>\n",
       "      <th>max</th>\n",
       "      <td>320.846436</td>\n",
       "    </tr>\n",
       "  </tbody>\n",
       "</table>\n",
       "</div>"
      ],
      "text/plain": [
       "                 v\n",
       "count   665.000000\n",
       "mean    -87.757378\n",
       "std     334.923065\n",
       "min   -1891.271973\n",
       "25%    -149.579773\n",
       "50%      49.199219\n",
       "75%     113.198730\n",
       "max     320.846436"
      ]
     },
     "execution_count": 17,
     "metadata": {},
     "output_type": "execute_result"
    }
   ],
   "source": [
    "df1CAE.describe()"
   ]
  },
  {
   "cell_type": "markdown",
   "id": "a034a3ab",
   "metadata": {
    "tags": []
   },
   "source": [
    "### Test score"
   ]
  },
  {
   "cell_type": "code",
   "execution_count": 18,
   "id": "fcebc6ce",
   "metadata": {
    "tags": []
   },
   "outputs": [
    {
     "name": "stdout",
     "output_type": "stream",
     "text": [
      "Test scores:\n",
      "minority class F1 score 0.4476351351351351\n",
      "majority class F1 score 0.7123407992973211\n",
      "average F1 score 0.579987967216228\n"
     ]
    }
   ],
   "source": [
    "print(f\"Test scores:\")\n",
    "print(f\"minority class F1 score {f1}\")\n",
    "print(f\"majority class F1 score {f1_maj}\")\n",
    "print(f\"average F1 score {(f1+f1_maj)/2}\")"
   ]
  }
 ],
 "metadata": {
  "kernelspec": {
   "display_name": "Python 3 (ipykernel)",
   "language": "python",
   "name": "python3"
  },
  "language_info": {
   "codemirror_mode": {
    "name": "ipython",
    "version": 3
   },
   "file_extension": ".py",
   "mimetype": "text/x-python",
   "name": "python",
   "nbconvert_exporter": "python",
   "pygments_lexer": "ipython3",
   "version": "3.10.6"
  }
 },
 "nbformat": 4,
 "nbformat_minor": 5
}
