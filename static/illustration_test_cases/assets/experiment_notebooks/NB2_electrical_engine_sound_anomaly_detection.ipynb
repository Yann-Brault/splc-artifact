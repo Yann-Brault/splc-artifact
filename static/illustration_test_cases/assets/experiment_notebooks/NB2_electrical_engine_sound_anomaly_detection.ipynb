{
 "cells": [
  {
   "cell_type": "code",
   "execution_count": 1,
   "id": "4557a6b9",
   "metadata": {
    "tags": []
   },
   "outputs": [
    {
     "name": "stderr",
     "output_type": "stream",
     "text": [
      "<frozen importlib._bootstrap>:219: RuntimeWarning: scipy._lib.messagestream.MessageStream size changed, may indicate binary incompatibility. Expected 56 from C header, got 64 from PyObject\n"
     ]
    }
   ],
   "source": [
    "import os \n",
    "import time\n",
    "import pandas as pd\n",
    "\n",
    "\n",
    "import keras \n",
    "import tensorflow as tf\n",
    "from tensorflow.keras import Sequential\n",
    "from tensorflow.keras.layers import LSTM\n",
    "from tensorflow.keras.layers import Dense\n",
    "from tensorflow.keras.layers import BatchNormalization\n",
    "from tensorflow.keras.layers import TimeDistributed\n",
    "from tensorflow.keras.models import Model\n",
    "from tensorflow.keras.layers import Conv2D\n",
    "from tensorflow.keras.layers import LeakyReLU\n",
    "from tensorflow.keras.layers import Activation\n",
    "from tensorflow.keras.layers import Flatten\n",
    "from tensorflow.keras.layers import Reshape\n",
    "from tensorflow.keras.layers import Input\n",
    "\n",
    "from keras import layers\n",
    "from keras.layers import Conv2DTranspose\n",
    "from tensorflow.keras import backend as K\n",
    "import numpy as np\n",
    "import librosa\n",
    "import matplotlib.pyplot as plt\n",
    "import librosa.display\n",
    "\n",
    "from sklearn.preprocessing import MinMaxScaler\n",
    "from sklearn.metrics import f1_score\n"
   ]
  },
  {
   "cell_type": "markdown",
   "id": "0b2c0126",
   "metadata": {
    "tags": []
   },
   "source": [
    "# Detection semi-supérvisé des anomalies des moteurs éléctriques"
   ]
  },
  {
   "cell_type": "markdown",
   "id": "2f44429a",
   "metadata": {},
   "source": [
    "## Import des données"
   ]
  },
  {
   "cell_type": "code",
   "execution_count": null,
   "id": "ca188600",
   "metadata": {
    "tags": []
   },
   "outputs": [],
   "source": []
  },
  {
   "cell_type": "code",
   "execution_count": 72,
   "id": "ac8a06b3",
   "metadata": {
    "tags": []
   },
   "outputs": [],
   "source": [
    "# train_data_2[['value','Class']].plot()"
   ]
  },
  {
   "cell_type": "markdown",
   "id": "5689dae5",
   "metadata": {},
   "source": [
    "## Creation de modèle ( CNN AE ) "
   ]
  },
  {
   "cell_type": "code",
   "execution_count": 2,
   "id": "980a0884",
   "metadata": {
    "tags": []
   },
   "outputs": [],
   "source": [
    "class ConvAutoencoder:\n",
    "    @staticmethod\n",
    "    def build(width, height, depth, filters=(32, 64), latentDim=50):\n",
    "        # initialize the input shape to be \"channels last\" along with\n",
    "        # the channels dimension itself\n",
    "        # channels dimension itself\n",
    "        inputShape = (height, width, depth)\n",
    "        chanDim = -1\n",
    "        # define the input to the encoder\n",
    "        inputs = Input(shape=inputShape)\n",
    "        x = inputs\n",
    "        # loop over the number of filters\n",
    "        for f in filters:\n",
    "        # apply a CONV => RELU => BN operation\n",
    "            x = Conv2D(f, (3, 3), strides=2, padding=\"same\")(x)\n",
    "            x = LeakyReLU(alpha=0.2)(x)\n",
    "            x = BatchNormalization(axis=chanDim)(x)\n",
    "        # flatten the network and then construct our latent vector\n",
    "        volumeSize = K.int_shape(x)\n",
    "        x = Flatten()(x)\n",
    "        latent = Dense(latentDim)(x)\n",
    "        # build the encoder model\n",
    "        encoder = Model(inputs, latent, name=\"encoder\")\n",
    "        # start building the decoder model which will accept the\n",
    "        # output of the encoder as its inputs\n",
    "        latentInputs = Input(shape=(latentDim,))\n",
    "        x = Dense(np.prod(volumeSize[1:]))(latentInputs)\n",
    "        x = Reshape((volumeSize[1], volumeSize[2], volumeSize[3]))(x)\n",
    "        # loop over our number of filters again, but this time in\n",
    "        # reverse order\n",
    "        for f in filters[::-1]:\n",
    "            # apply a CONV_TRANSPOSE => RELU => BN operation\n",
    "            x = Conv2DTranspose(f, (3, 3), strides=2,\n",
    "                padding=\"same\")(x)\n",
    "            x = LeakyReLU(alpha=0.2)(x)\n",
    "            x = BatchNormalization(axis=chanDim)(x)\n",
    "        # apply a single CONV_TRANSPOSE layer used to recover the\n",
    "        # original depth of the image\n",
    "        x = Conv2DTranspose(depth, (3, 3), padding=\"same\")(x)\n",
    "        outputs = Activation(\"sigmoid\")(x)\n",
    "        # build the decoder model\n",
    "        decoder = Model(latentInputs, outputs, name=\"decoder\")\n",
    "        # our autoencoder is the encoder + decoder\n",
    "        autoencoder = Model(inputs, decoder(encoder(inputs)),\n",
    "        name=\"autoencoder\")\n",
    "        optimizer = tf.keras.optimizers.Adam(learning_rate=0.01)\n",
    "        autoencoder.compile(loss=\"mse\", optimizer=optimizer)\n",
    "        return autoencoder"
   ]
  },
  {
   "cell_type": "markdown",
   "id": "ed733201",
   "metadata": {},
   "source": [
    "## Preparation des données"
   ]
  },
  {
   "cell_type": "code",
   "execution_count": 22,
   "id": "deda1c5f-9081-4472-99ca-eb46fb6025ee",
   "metadata": {
    "tags": []
   },
   "outputs": [
    {
     "data": {
      "text/plain": [
       "'pure_1'"
      ]
     },
     "execution_count": 22,
     "metadata": {},
     "output_type": "execute_result"
    }
   ],
   "source": []
  },
  {
   "cell_type": "code",
   "execution_count": 3,
   "id": "3740c134",
   "metadata": {
    "tags": []
   },
   "outputs": [],
   "source": [
    "def build_spectrograms(input_folder,saving_folder):\n",
    "    files = librosa.util.find_files(input_folder, ext=['wav']) \n",
    "    files = np.asarray(files)\n",
    "    for y in files:  \n",
    "        data = librosa.load(y, sr = 16000,mono = True)   \n",
    "        data = data[0]     \n",
    "        S_left = librosa.stft(data, center=True)\n",
    "        fig, ax = plt.subplots()\n",
    "        img = librosa.display.specshow(librosa.amplitude_to_db(S_left,\n",
    "                                                               ref=np.max),\n",
    "                                       y_axis='log', x_axis='time', ax=ax)\n",
    "        ax.set_title('Power spectrogram')\n",
    "        fig.colorbar(img, ax=ax, format=\"%+2.0f dB\")\n",
    "        file_name = y.split('/')[-1].split('.')[0]\n",
    "        plt.savefig(f\"{saving_folder}/{file_name}.png\")\n",
    "   "
   ]
  },
  {
   "cell_type": "code",
   "execution_count": null,
   "id": "1db7d23b-46c2-4072-a509-46d4fd22967c",
   "metadata": {
    "tags": []
   },
   "outputs": [
    {
     "name": "stderr",
     "output_type": "stream",
     "text": [
      "/tmp/ipykernel_4852/4098243027.py:8: RuntimeWarning: More than 20 figures have been opened. Figures created through the pyplot interface (`matplotlib.pyplot.figure`) are retained until explicitly closed and may consume too much memory. (To control this warning, see the rcParam `figure.max_open_warning`).\n",
      "  fig, ax = plt.subplots()\n"
     ]
    }
   ],
   "source": [
    "# load and transform sound to spectrogram\n",
    "folders = [(\"./IDMT-ISA-ELECTRIC-ENGINE/train_cut/engine1_good\",\"./Spectrograms/train_cut/engine1_good\"),\n",
    "           (\"./IDMT-ISA-ELECTRIC-ENGINE/train_cut/engine2_broken\",\"./Spectrograms/train_cut/engine2_broken\"),\n",
    "           (\"./IDMT-ISA-ELECTRIC-ENGINE/train_cut/engine3_heavyload\",\"./Spectrograms/train_cut/engine3_heavyload\"),\n",
    "           (\"./IDMT-ISA-ELECTRIC-ENGINE/test_cut/engine1_good\",\"./Spectrograms/test_cut/engine1_good\"),\n",
    "           (\"./IDMT-ISA-ELECTRIC-ENGINE/test_cut/engine2_broken\",\"./Spectrograms/test_cut/engine2_broken\"),\n",
    "           (\"./IDMT-ISA-ELECTRIC-ENGINE/test_cut/engine3_heavyload\",\"./Spectrograms/test_cut/engine3_heavyload\")]\n",
    "\n",
    "for input_folder,saving_folder in folders:\n",
    "    build_spectrograms(input_folder,saving_folder)"
   ]
  },
  {
   "cell_type": "code",
   "execution_count": null,
   "id": "b7f867c4-c273-474f-bcd6-1900a6685117",
   "metadata": {
    "tags": []
   },
   "outputs": [],
   "source": []
  },
  {
   "cell_type": "code",
   "execution_count": null,
   "id": "c5beea90",
   "metadata": {
    "tags": []
   },
   "outputs": [],
   "source": []
  },
  {
   "cell_type": "code",
   "execution_count": 27,
   "id": "72e6a049",
   "metadata": {
    "tags": []
   },
   "outputs": [],
   "source": [
    "# build_spectrograms(train_data_2,100,\"Spectrograms6/Train\",1)\n",
    "# build_spectrograms(test_data_2,100,\"Spectrograms6/Test\",1)\n"
   ]
  },
  {
   "cell_type": "markdown",
   "id": "2bc74013",
   "metadata": {},
   "source": [
    "## Chargement des spectrogrammes"
   ]
  },
  {
   "cell_type": "code",
   "execution_count": 4,
   "id": "71b5e344",
   "metadata": {
    "tags": []
   },
   "outputs": [],
   "source": [
    "#chargement custom des données de spéctrogramme de train\n",
    "train_folder = \"Spectrograms/train_cut/\"\n",
    "train_images = []\n",
    "ano_images = [] \n",
    "class_data = [\"engine1_good\",\"engine2_broken\",\"engine3_heavyload\"]\n",
    "for label in class_data:\n",
    "    for i,img in enumerate(os.listdir(f\"{train_folder}/{label}/\")):\n",
    "        if 'png' in img:\n",
    "            image = tf.keras.utils.load_img(f\"{train_folder}/{label}/{img}\",color_mode = \"grayscale\",target_size=(200, 200))\n",
    "            input_arr = tf.keras.utils.img_to_array(image)/255.0\n",
    "            if label in [\"engine1_good\",\"engine3_heavyload\"]:    \n",
    "                train_images.append(input_arr)\n",
    "            else:\n",
    "                ano_images.append(input_arr)\n"
   ]
  },
  {
   "cell_type": "code",
   "execution_count": 5,
   "id": "b4aa0d82",
   "metadata": {
    "tags": []
   },
   "outputs": [],
   "source": [
    "X_train0_CAE = np.array(train_images) # spectrograms de données normal train\n",
    "X_train1_CAE = np.array(ano_images) # spectrograms de données anormal train"
   ]
  },
  {
   "cell_type": "code",
   "execution_count": 6,
   "id": "dc2f69c8",
   "metadata": {
    "tags": []
   },
   "outputs": [],
   "source": [
    "#chargement custom des données de spéctrogramme de test\n",
    "test_folder = \"Spectrograms/test_cut\"\n",
    "test_images0 = []\n",
    "test_images1 = [] \n",
    "class_data = [\"engine1_good\",\"engine2_broken\",\"engine3_heavyload\"]\n",
    "for label in class_data:\n",
    "    for i,img in enumerate(os.listdir(f\"{test_folder}/{label}/\")):\n",
    "        if 'png' in img:\n",
    "            image = tf.keras.utils.load_img(f\"{test_folder}/{label}/{img}\",color_mode = \"grayscale\",target_size=(200, 200))\n",
    "            input_arr = tf.keras.utils.img_to_array(image)/255.0\n",
    "            if label in [\"engine1_good\",\"engine3_heavyload\"]:    \n",
    "                test_images0.append(input_arr)\n",
    "            else:\n",
    "                test_images1.append(input_arr)"
   ]
  },
  {
   "cell_type": "code",
   "execution_count": 7,
   "id": "7492a01c",
   "metadata": {
    "tags": []
   },
   "outputs": [],
   "source": [
    "X_test0CAE = np.array(test_images0) # spectrograms de données normal test\n",
    "X_test1CAE = np.array(test_images1) # spectrograms de données anormal test"
   ]
  },
  {
   "cell_type": "markdown",
   "id": "fe2ae1aa",
   "metadata": {
    "tags": []
   },
   "source": [
    "## Apprentissage du modèle"
   ]
  },
  {
   "cell_type": "code",
   "execution_count": 12,
   "id": "213baef7",
   "metadata": {
    "tags": []
   },
   "outputs": [],
   "source": [
    "CAE = ConvAutoencoder.build(200, 200, 1) # construction de l'architecture"
   ]
  },
  {
   "cell_type": "code",
   "execution_count": 13,
   "id": "eb0b38ed",
   "metadata": {
    "tags": []
   },
   "outputs": [
    {
     "name": "stdout",
     "output_type": "stream",
     "text": [
      "Epoch 1/50\n",
      "24/24 [==============================] - 8s 322ms/step - loss: 0.0519\n",
      "Epoch 2/50\n",
      "24/24 [==============================] - 8s 326ms/step - loss: 0.0153\n",
      "Epoch 3/50\n",
      "24/24 [==============================] - 8s 329ms/step - loss: 0.0079\n",
      "Epoch 4/50\n",
      "24/24 [==============================] - 8s 327ms/step - loss: 0.0050\n",
      "Epoch 5/50\n",
      "24/24 [==============================] - 8s 334ms/step - loss: 0.0037\n",
      "Epoch 6/50\n",
      "24/24 [==============================] - 8s 331ms/step - loss: 0.0031\n",
      "Epoch 7/50\n",
      "24/24 [==============================] - 8s 333ms/step - loss: 0.0026\n",
      "Epoch 8/50\n",
      "24/24 [==============================] - 8s 343ms/step - loss: 0.0021\n",
      "Epoch 9/50\n",
      "24/24 [==============================] - 8s 346ms/step - loss: 0.0020\n",
      "Epoch 10/50\n",
      "24/24 [==============================] - 8s 351ms/step - loss: 0.0019\n",
      "Epoch 11/50\n",
      "24/24 [==============================] - 9s 355ms/step - loss: 0.0016\n",
      "Epoch 12/50\n",
      "24/24 [==============================] - 8s 350ms/step - loss: 0.0016\n",
      "Epoch 13/50\n",
      "24/24 [==============================] - 8s 342ms/step - loss: 0.0016\n",
      "Epoch 14/50\n",
      "24/24 [==============================] - 8s 348ms/step - loss: 0.0019\n",
      "Epoch 15/50\n",
      "24/24 [==============================] - 9s 358ms/step - loss: 0.0016\n",
      "Epoch 16/50\n",
      "24/24 [==============================] - 8s 351ms/step - loss: 0.0015\n",
      "Epoch 17/50\n",
      "24/24 [==============================] - 8s 348ms/step - loss: 0.0015\n",
      "Epoch 18/50\n",
      "24/24 [==============================] - 8s 348ms/step - loss: 0.0015\n",
      "Epoch 19/50\n",
      "24/24 [==============================] - 9s 354ms/step - loss: 0.0015\n",
      "Epoch 20/50\n",
      "24/24 [==============================] - 8s 352ms/step - loss: 0.0015\n",
      "Epoch 21/50\n",
      "24/24 [==============================] - 9s 366ms/step - loss: 0.0014\n",
      "Epoch 22/50\n",
      "24/24 [==============================] - 9s 358ms/step - loss: 0.0014\n",
      "Epoch 23/50\n",
      "24/24 [==============================] - 9s 367ms/step - loss: 0.0014\n",
      "Epoch 24/50\n",
      "24/24 [==============================] - 9s 358ms/step - loss: 0.0015\n",
      "Epoch 25/50\n",
      "24/24 [==============================] - 9s 355ms/step - loss: 0.0014\n",
      "Epoch 26/50\n",
      "24/24 [==============================] - 8s 351ms/step - loss: 0.0014\n",
      "Epoch 27/50\n",
      "24/24 [==============================] - 8s 351ms/step - loss: 0.0014\n",
      "Epoch 28/50\n",
      "24/24 [==============================] - 8s 351ms/step - loss: 0.0014\n",
      "Epoch 29/50\n",
      "24/24 [==============================] - 9s 359ms/step - loss: 0.0014\n",
      "Epoch 30/50\n",
      "24/24 [==============================] - 8s 352ms/step - loss: 0.0014\n",
      "Epoch 31/50\n",
      "24/24 [==============================] - 9s 368ms/step - loss: 0.0014\n",
      "Epoch 32/50\n",
      "24/24 [==============================] - 9s 354ms/step - loss: 0.0014\n",
      "Epoch 33/50\n",
      "24/24 [==============================] - 9s 359ms/step - loss: 0.0014\n",
      "Epoch 34/50\n",
      "24/24 [==============================] - 8s 351ms/step - loss: 0.0014\n",
      "Epoch 35/50\n",
      "24/24 [==============================] - 9s 377ms/step - loss: 0.0014\n",
      "Epoch 36/50\n",
      "24/24 [==============================] - 19s 798ms/step - loss: 0.0014\n",
      "Epoch 37/50\n",
      "24/24 [==============================] - 18s 763ms/step - loss: 0.0014\n",
      "Epoch 38/50\n",
      "24/24 [==============================] - 8s 330ms/step - loss: 0.0014\n",
      "Epoch 39/50\n",
      "24/24 [==============================] - 8s 344ms/step - loss: 0.0014\n",
      "Epoch 40/50\n",
      "24/24 [==============================] - 8s 350ms/step - loss: 0.0014\n",
      "Epoch 41/50\n",
      "24/24 [==============================] - 9s 354ms/step - loss: 0.0013\n",
      "Epoch 42/50\n",
      "24/24 [==============================] - 8s 347ms/step - loss: 0.0013\n",
      "Epoch 43/50\n",
      "24/24 [==============================] - 9s 358ms/step - loss: 0.0013\n",
      "Epoch 44/50\n",
      "24/24 [==============================] - 8s 351ms/step - loss: 0.0013\n",
      "Epoch 45/50\n",
      "24/24 [==============================] - 9s 373ms/step - loss: 0.0013\n",
      "Epoch 46/50\n",
      "24/24 [==============================] - 9s 373ms/step - loss: 0.0012\n",
      "Epoch 47/50\n",
      "24/24 [==============================] - 9s 378ms/step - loss: 0.0013\n",
      "Epoch 48/50\n",
      "24/24 [==============================] - 9s 362ms/step - loss: 0.0014\n",
      "Epoch 49/50\n",
      "24/24 [==============================] - 9s 360ms/step - loss: 0.0013\n",
      "Epoch 50/50\n",
      "24/24 [==============================] - 9s 364ms/step - loss: 0.0013\n",
      "model trained in 7.395248289903005 minutes\n"
     ]
    }
   ],
   "source": [
    "start = time.time()\n",
    "callback = tf.keras.callbacks.EarlyStopping(monitor='loss', patience=10)\n",
    "CAE.fit(X_train0_CAE,X_train0_CAE, epochs=50,batch_size = 10, verbose = True, callbacks= [callback])\n",
    "print(f\"model trained in {(time.time()-start)/60} minutes\")"
   ]
  },
  {
   "cell_type": "code",
   "execution_count": 56,
   "id": "2663aac4-371c-41c7-99e7-42bf10f66ff0",
   "metadata": {
    "tags": []
   },
   "outputs": [],
   "source": [
    "CAE.save('CAE200_200.h5')"
   ]
  },
  {
   "cell_type": "markdown",
   "id": "d2089159",
   "metadata": {
    "tags": []
   },
   "source": [
    "## Prediction"
   ]
  },
  {
   "cell_type": "code",
   "execution_count": 16,
   "id": "4fff08b0",
   "metadata": {
    "tags": []
   },
   "outputs": [],
   "source": [
    "prediction_test0CAE = CAE.predict(X_test0CAE)\n",
    "prediction_test1CAE = CAE.predict(X_test1CAE)"
   ]
  },
  {
   "cell_type": "code",
   "execution_count": 17,
   "id": "227ed88a",
   "metadata": {
    "tags": []
   },
   "outputs": [],
   "source": [
    "r_e_test0CAE = np.sum(np.sum((X_test0CAE-prediction_test0CAE) ** 2, axis=1),axis=1)\n",
    "r_e_test1CAE = np.sum(np.sum((X_test1CAE-prediction_test1CAE) ** 2, axis=1),axis=1)"
   ]
  },
  {
   "cell_type": "code",
   "execution_count": 32,
   "id": "9cf1d128-d77f-40d9-afdd-27da2860c028",
   "metadata": {
    "tags": []
   },
   "outputs": [],
   "source": [
    "re_test = np.concatenate((r_e_test0CAE, r_e_test1CAE))"
   ]
  },
  {
   "cell_type": "code",
   "execution_count": 57,
   "id": "bd83b13c-c02b-4a59-b45c-5a0b502446ff",
   "metadata": {
    "tags": []
   },
   "outputs": [],
   "source": [
    "threshold_t_CAE = np.quantile(re_test,0.7)"
   ]
  },
  {
   "cell_type": "code",
   "execution_count": 51,
   "id": "16b5ee96",
   "metadata": {
    "tags": []
   },
   "outputs": [],
   "source": [
    "decision0CAE = -r_e_test0CAE + threshold_t_CAE\n",
    "decision1CAE = -r_e_test1CAE + threshold_t_CAE\n",
    "df0CAE = pd.DataFrame(decision0CAE, columns=['v'])\n",
    "df1CAE = pd.DataFrame(decision1CAE, columns=['v'])\n",
    "decision1CAE = -r_e_test1CAE"
   ]
  },
  {
   "cell_type": "code",
   "execution_count": 52,
   "id": "44841250",
   "metadata": {
    "tags": []
   },
   "outputs": [],
   "source": [
    "# computing f1 score of minority class\n",
    "recall = len(df1CAE[df1CAE.v<0])/len(df1CAE)\n",
    "precision = len(df1CAE[df1CAE.v<0])/(len(df1CAE[df1CAE.v<0])+len(df0CAE[df0CAE.v<0]))\n",
    "f1 = 2*precision*recall/(precision+recall)"
   ]
  },
  {
   "cell_type": "code",
   "execution_count": 55,
   "id": "f0244e5e",
   "metadata": {
    "tags": []
   },
   "outputs": [
    {
     "ename": "ZeroDivisionError",
     "evalue": "division by zero",
     "output_type": "error",
     "traceback": [
      "\u001b[0;31m---------------------------------------------------------------------------\u001b[0m",
      "\u001b[0;31mZeroDivisionError\u001b[0m                         Traceback (most recent call last)",
      "\u001b[0;32m/tmp/ipykernel_26687/205215680.py\u001b[0m in \u001b[0;36m<module>\u001b[0;34m\u001b[0m\n\u001b[1;32m      1\u001b[0m \u001b[0;31m# computing f1 score of majority class\u001b[0m\u001b[0;34m\u001b[0m\u001b[0;34m\u001b[0m\u001b[0;34m\u001b[0m\u001b[0m\n\u001b[1;32m      2\u001b[0m \u001b[0mrecall_maj\u001b[0m \u001b[0;34m=\u001b[0m \u001b[0mlen\u001b[0m\u001b[0;34m(\u001b[0m\u001b[0mdf0CAE\u001b[0m\u001b[0;34m[\u001b[0m\u001b[0mdf0CAE\u001b[0m\u001b[0;34m.\u001b[0m\u001b[0mv\u001b[0m\u001b[0;34m>\u001b[0m\u001b[0;36m0\u001b[0m\u001b[0;34m]\u001b[0m\u001b[0;34m)\u001b[0m\u001b[0;34m/\u001b[0m\u001b[0mlen\u001b[0m\u001b[0;34m(\u001b[0m\u001b[0mdf0CAE\u001b[0m\u001b[0;34m)\u001b[0m\u001b[0;34m\u001b[0m\u001b[0;34m\u001b[0m\u001b[0m\n\u001b[0;32m----> 3\u001b[0;31m \u001b[0mprecision_maj\u001b[0m \u001b[0;34m=\u001b[0m \u001b[0mlen\u001b[0m\u001b[0;34m(\u001b[0m\u001b[0mdf0CAE\u001b[0m\u001b[0;34m[\u001b[0m\u001b[0mdf0CAE\u001b[0m\u001b[0;34m.\u001b[0m\u001b[0mv\u001b[0m\u001b[0;34m>\u001b[0m\u001b[0;36m0\u001b[0m\u001b[0;34m]\u001b[0m\u001b[0;34m)\u001b[0m\u001b[0;34m/\u001b[0m\u001b[0;34m(\u001b[0m\u001b[0mlen\u001b[0m\u001b[0;34m(\u001b[0m\u001b[0mdf1CAE\u001b[0m\u001b[0;34m[\u001b[0m\u001b[0mdf1CAE\u001b[0m\u001b[0;34m.\u001b[0m\u001b[0mv\u001b[0m\u001b[0;34m>\u001b[0m\u001b[0;36m0\u001b[0m\u001b[0;34m]\u001b[0m\u001b[0;34m)\u001b[0m\u001b[0;34m+\u001b[0m\u001b[0mlen\u001b[0m\u001b[0;34m(\u001b[0m\u001b[0mdf0CAE\u001b[0m\u001b[0;34m[\u001b[0m\u001b[0mdf0CAE\u001b[0m\u001b[0;34m.\u001b[0m\u001b[0mv\u001b[0m\u001b[0;34m>\u001b[0m\u001b[0;36m0\u001b[0m\u001b[0;34m]\u001b[0m\u001b[0;34m)\u001b[0m\u001b[0;34m)\u001b[0m\u001b[0;34m\u001b[0m\u001b[0;34m\u001b[0m\u001b[0m\n\u001b[0m\u001b[1;32m      4\u001b[0m \u001b[0mf1_maj\u001b[0m \u001b[0;34m=\u001b[0m \u001b[0;36m2\u001b[0m\u001b[0;34m*\u001b[0m\u001b[0mprecision_maj\u001b[0m\u001b[0;34m*\u001b[0m\u001b[0mrecall_maj\u001b[0m\u001b[0;34m/\u001b[0m\u001b[0;34m(\u001b[0m\u001b[0mprecision_maj\u001b[0m\u001b[0;34m+\u001b[0m\u001b[0mrecall_maj\u001b[0m\u001b[0;34m)\u001b[0m\u001b[0;34m\u001b[0m\u001b[0;34m\u001b[0m\u001b[0m\n",
      "\u001b[0;31mZeroDivisionError\u001b[0m: division by zero"
     ]
    }
   ],
   "source": [
    "# computing f1 score of majority class\n",
    "recall_maj = len(df0CAE[df0CAE.v>0])/len(df0CAE)\n",
    "precision_maj = len(df0CAE[df0CAE.v>0])/(len(df1CAE[df1CAE.v>0])+len(df0CAE[df0CAE.v>0]))\n",
    "f1_maj = 2*precision_maj*recall_maj/(precision_maj+recall_maj)"
   ]
  },
  {
   "cell_type": "code",
   "execution_count": 54,
   "id": "d4df64b2-2cbd-4576-a2a2-b2559f79ab90",
   "metadata": {
    "tags": []
   },
   "outputs": [
    {
     "data": {
      "text/html": [
       "<div>\n",
       "<style scoped>\n",
       "    .dataframe tbody tr th:only-of-type {\n",
       "        vertical-align: middle;\n",
       "    }\n",
       "\n",
       "    .dataframe tbody tr th {\n",
       "        vertical-align: top;\n",
       "    }\n",
       "\n",
       "    .dataframe thead th {\n",
       "        text-align: right;\n",
       "    }\n",
       "</style>\n",
       "<table border=\"1\" class=\"dataframe\">\n",
       "  <thead>\n",
       "    <tr style=\"text-align: right;\">\n",
       "      <th></th>\n",
       "      <th>v</th>\n",
       "    </tr>\n",
       "  </thead>\n",
       "  <tbody>\n",
       "    <tr>\n",
       "      <th>count</th>\n",
       "      <td>665.000000</td>\n",
       "    </tr>\n",
       "    <tr>\n",
       "      <th>mean</th>\n",
       "      <td>-626.429993</td>\n",
       "    </tr>\n",
       "    <tr>\n",
       "      <th>std</th>\n",
       "      <td>101.405327</td>\n",
       "    </tr>\n",
       "    <tr>\n",
       "      <th>min</th>\n",
       "      <td>-946.298584</td>\n",
       "    </tr>\n",
       "    <tr>\n",
       "      <th>25%</th>\n",
       "      <td>-697.729370</td>\n",
       "    </tr>\n",
       "    <tr>\n",
       "      <th>50%</th>\n",
       "      <td>-630.799194</td>\n",
       "    </tr>\n",
       "    <tr>\n",
       "      <th>75%</th>\n",
       "      <td>-547.086487</td>\n",
       "    </tr>\n",
       "    <tr>\n",
       "      <th>max</th>\n",
       "      <td>-324.579041</td>\n",
       "    </tr>\n",
       "  </tbody>\n",
       "</table>\n",
       "</div>"
      ],
      "text/plain": [
       "                v\n",
       "count  665.000000\n",
       "mean  -626.429993\n",
       "std    101.405327\n",
       "min   -946.298584\n",
       "25%   -697.729370\n",
       "50%   -630.799194\n",
       "75%   -547.086487\n",
       "max   -324.579041"
      ]
     },
     "execution_count": 54,
     "metadata": {},
     "output_type": "execute_result"
    }
   ],
   "source": [
    "df1CAE.describe()"
   ]
  },
  {
   "cell_type": "markdown",
   "id": "a034a3ab",
   "metadata": {
    "tags": []
   },
   "source": [
    "### Test score"
   ]
  },
  {
   "cell_type": "code",
   "execution_count": 49,
   "id": "fcebc6ce",
   "metadata": {
    "tags": []
   },
   "outputs": [
    {
     "name": "stdout",
     "output_type": "stream",
     "text": [
      "Test scores:\n",
      "minority class F1 score 0.8260135135135135\n",
      "majority class F1 score 0.9099692577953447\n",
      "average F1 score 0.867991385654429\n"
     ]
    }
   ],
   "source": [
    "print(f\"Test scores:\")\n",
    "print(f\"minority class F1 score {f1}\")\n",
    "print(f\"majority class F1 score {f1_maj}\")\n",
    "print(f\"average F1 score {(f1+f1_maj)/2}\")"
   ]
  }
 ],
 "metadata": {
  "kernelspec": {
   "display_name": "autopytorch",
   "language": "python",
   "name": "autopytorch"
  },
  "language_info": {
   "codemirror_mode": {
    "name": "ipython",
    "version": 3
   },
   "file_extension": ".py",
   "mimetype": "text/x-python",
   "name": "python",
   "nbconvert_exporter": "python",
   "pygments_lexer": "ipython3",
   "version": "3.8.13"
  }
 },
 "nbformat": 4,
 "nbformat_minor": 5
}
