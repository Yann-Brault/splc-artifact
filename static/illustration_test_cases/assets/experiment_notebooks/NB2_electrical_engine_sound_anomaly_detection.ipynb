{
 "cells": [
  {
   "cell_type": "code",
   "execution_count": null,
   "id": "4557a6b9",
   "metadata": {
    "tags": []
   },
   "outputs": [],
   "source": [
    "import os \n",
    "import time\n",
    "import pandas as pd\n",
    "\n",
    "\n",
    "import keras \n",
    "import tensorflow as tf\n",
    "from tensorflow.keras import Sequential\n",
    "from tensorflow.keras.layers import LSTM\n",
    "from tensorflow.keras.layers import Dense\n",
    "from tensorflow.keras.layers import BatchNormalization\n",
    "from tensorflow.keras.layers import TimeDistributed\n",
    "from tensorflow.keras.models import Model\n",
    "from tensorflow.keras.layers import Conv2D\n",
    "from tensorflow.keras.layers import LeakyReLU\n",
    "from tensorflow.keras.layers import Activation\n",
    "from tensorflow.keras.layers import Flatten\n",
    "from tensorflow.keras.layers import Reshape\n",
    "from tensorflow.keras.layers import Input\n",
    "\n",
    "from keras import layers\n",
    "from keras.layers import Conv2DTranspose\n",
    "from tensorflow.keras import backend as K\n",
    "import numpy as np\n",
    "import librosa\n",
    "import matplotlib.pyplot as plt\n",
    "import librosa.display\n",
    "\n",
    "from sklearn.preprocessing import MinMaxScaler\n",
    "from sklearn.metrics import f1_score\n"
   ]
  },
  {
   "attachments": {},
   "cell_type": "markdown",
   "id": "0b2c0126",
   "metadata": {
    "tags": []
   },
   "source": [
    "# Electrical engine sound anomaly detection"
   ]
  },
  {
   "attachments": {},
   "cell_type": "markdown",
   "id": "5689dae5",
   "metadata": {},
   "source": [
    "## Model setup ( CNN AutoEncoder ) "
   ]
  },
  {
   "cell_type": "code",
   "execution_count": null,
   "id": "980a0884",
   "metadata": {
    "tags": []
   },
   "outputs": [],
   "source": [
    "class ConvAutoencoder:\n",
    "    @staticmethod\n",
    "    def build(width, height, depth, filters=(32, 64), latentDim=50):\n",
    "        # initialize the input shape to be \"channels last\" along with\n",
    "        # the channels dimension itself\n",
    "        # channels dimension itself\n",
    "        inputShape = (height, width, depth)\n",
    "        chanDim = -1\n",
    "        # define the input to the encoder\n",
    "        inputs = Input(shape=inputShape)\n",
    "        x = inputs\n",
    "        # loop over the number of filters\n",
    "        for f in filters:\n",
    "        # apply a CONV => RELU => BN operation\n",
    "            x = Conv2D(f, (3, 3), strides=2, padding=\"same\")(x)\n",
    "            x = LeakyReLU(alpha=0.2)(x)\n",
    "            x = BatchNormalization(axis=chanDim)(x)\n",
    "        # flatten the network and then construct our latent vector\n",
    "        volumeSize = K.int_shape(x)\n",
    "        x = Flatten()(x)\n",
    "        latent = Dense(latentDim)(x)\n",
    "        # build the encoder model\n",
    "        encoder = Model(inputs, latent, name=\"encoder\")\n",
    "        # start building the decoder model which will accept the\n",
    "        # output of the encoder as its inputs\n",
    "        latentInputs = Input(shape=(latentDim,))\n",
    "        x = Dense(np.prod(volumeSize[1:]))(latentInputs)\n",
    "        x = Reshape((volumeSize[1], volumeSize[2], volumeSize[3]))(x)\n",
    "        # loop over our number of filters again, but this time in\n",
    "        # reverse order\n",
    "        for f in filters[::-1]:\n",
    "            # apply a CONV_TRANSPOSE => RELU => BN operation\n",
    "            x = Conv2DTranspose(f, (3, 3), strides=2,\n",
    "                padding=\"same\")(x)\n",
    "            x = LeakyReLU(alpha=0.2)(x)\n",
    "            x = BatchNormalization(axis=chanDim)(x)\n",
    "        # apply a single CONV_TRANSPOSE layer used to recover the\n",
    "        # original depth of the image\n",
    "        x = Conv2DTranspose(depth, (3, 3), padding=\"same\")(x)\n",
    "        outputs = Activation(\"sigmoid\")(x)\n",
    "        # build the decoder model\n",
    "        decoder = Model(latentInputs, outputs, name=\"decoder\")\n",
    "        # our autoencoder is the encoder + decoder\n",
    "        autoencoder = Model(inputs, decoder(encoder(inputs)),\n",
    "        name=\"autoencoder\")\n",
    "        optimizer = tf.keras.optimizers.Adam(learning_rate=0.01)\n",
    "        autoencoder.compile(loss=\"mse\", optimizer=optimizer)\n",
    "        return autoencoder"
   ]
  },
  {
   "attachments": {},
   "cell_type": "markdown",
   "id": "ed733201",
   "metadata": {},
   "source": [
    "## Data formating"
   ]
  },
  {
   "cell_type": "code",
   "execution_count": null,
   "id": "3740c134",
   "metadata": {
    "tags": []
   },
   "outputs": [],
   "source": [
    "def build_spectrograms(input_folder,saving_folder):\n",
    "    files = librosa.util.find_files(input_folder, ext=['wav']) \n",
    "    files = np.asarray(files)\n",
    "    for y in files:  \n",
    "        data = librosa.load(y, sr = 16000,mono = True)   \n",
    "        data = data[0]     \n",
    "        S_left = librosa.stft(data, center=True)\n",
    "        fig, ax = plt.subplots()\n",
    "        img = librosa.display.specshow(librosa.amplitude_to_db(S_left,\n",
    "                                                               ref=np.max),\n",
    "                                       y_axis='log', x_axis='time', ax=ax)\n",
    "        ax.set_title('Power spectrogram')\n",
    "        fig.colorbar(img, ax=ax, format=\"%+2.0f dB\")\n",
    "        file_name = y.split('/')[-1].split('.')[0]\n",
    "        plt.savefig(f\"{saving_folder}/{file_name}.png\")\n",
    "   "
   ]
  },
  {
   "cell_type": "code",
   "execution_count": null,
   "id": "1db7d23b-46c2-4072-a509-46d4fd22967c",
   "metadata": {
    "tags": []
   },
   "outputs": [],
   "source": [
    "# load and transform sound to spectrogram\n",
    "folders = [(\"./IDMT-ISA-ELECTRIC-ENGINE/train_cut/engine1_good\",\"./Spectrograms/train_cut/engine1_good\"),\n",
    "           (\"./IDMT-ISA-ELECTRIC-ENGINE/train_cut/engine2_broken\",\"./Spectrograms/train_cut/engine2_broken\"),\n",
    "           (\"./IDMT-ISA-ELECTRIC-ENGINE/train_cut/engine3_heavyload\",\"./Spectrograms/train_cut/engine3_heavyload\"),\n",
    "           (\"./IDMT-ISA-ELECTRIC-ENGINE/test_cut/engine1_good\",\"./Spectrograms/test_cut/engine1_good\"),\n",
    "           (\"./IDMT-ISA-ELECTRIC-ENGINE/test_cut/engine2_broken\",\"./Spectrograms/test_cut/engine2_broken\"),\n",
    "           (\"./IDMT-ISA-ELECTRIC-ENGINE/test_cut/engine3_heavyload\",\"./Spectrograms/test_cut/engine3_heavyload\")]\n",
    "\n",
    "for input_folder,saving_folder in folders:\n",
    "    build_spectrograms(input_folder,saving_folder)"
   ]
  },
  {
   "attachments": {},
   "cell_type": "markdown",
   "id": "2bc74013",
   "metadata": {},
   "source": [
    "## Spectrograms loading"
   ]
  },
  {
   "cell_type": "code",
   "execution_count": null,
   "id": "71b5e344",
   "metadata": {
    "tags": []
   },
   "outputs": [],
   "source": [
    "# Custom loading of training data\n",
    "train_folder = \"Spectrograms/train_cut/\"\n",
    "train_images = []\n",
    "ano_images = [] \n",
    "class_data = [\"engine1_good\",\"engine2_broken\",\"engine3_heavyload\"]\n",
    "for label in class_data:\n",
    "    for i,img in enumerate(os.listdir(f\"{train_folder}/{label}/\")):\n",
    "        if 'png' in img:\n",
    "            image = tf.keras.utils.load_img(f\"{train_folder}/{label}/{img}\",color_mode = \"grayscale\",target_size=(200, 200))\n",
    "            input_arr = tf.keras.utils.img_to_array(image)/255.0\n",
    "            if label in [\"engine1_good\",\"engine3_heavyload\"]:    \n",
    "                train_images.append(input_arr)\n",
    "            else:\n",
    "                ano_images.append(input_arr)\n"
   ]
  },
  {
   "cell_type": "code",
   "execution_count": null,
   "id": "b4aa0d82",
   "metadata": {
    "tags": []
   },
   "outputs": [],
   "source": [
    "X_train0_CAE = np.array(train_images) # Training data without anomalies\n",
    "X_train1_CAE = np.array(ano_images) # Training data with anomalies"
   ]
  },
  {
   "cell_type": "code",
   "execution_count": null,
   "id": "dc2f69c8",
   "metadata": {
    "tags": []
   },
   "outputs": [],
   "source": [
    "# Custom loading of test data\n",
    "test_folder = \"Spectrograms/test_cut\"\n",
    "test_images0 = []\n",
    "test_images1 = [] \n",
    "class_data = [\"engine1_good\",\"engine2_broken\",\"engine3_heavyload\"]\n",
    "for label in class_data:\n",
    "    for i,img in enumerate(os.listdir(f\"{test_folder}/{label}/\")):\n",
    "        if 'png' in img:\n",
    "            image = tf.keras.utils.load_img(f\"{test_folder}/{label}/{img}\",color_mode = \"grayscale\",target_size=(200, 200))\n",
    "            input_arr = tf.keras.utils.img_to_array(image)/255.0\n",
    "            if label in [\"engine1_good\",\"engine3_heavyload\"]:    \n",
    "                test_images0.append(input_arr)\n",
    "            else:\n",
    "                test_images1.append(input_arr)"
   ]
  },
  {
   "cell_type": "code",
   "execution_count": null,
   "id": "7492a01c",
   "metadata": {
    "tags": []
   },
   "outputs": [],
   "source": [
    "X_test0CAE = np.array(test_images0) # Test data without anomalies\n",
    "X_test1CAE = np.array(test_images1) # Test data with anomalies"
   ]
  },
  {
   "attachments": {},
   "cell_type": "markdown",
   "id": "fe2ae1aa",
   "metadata": {
    "tags": []
   },
   "source": [
    "## Model learning"
   ]
  },
  {
   "cell_type": "code",
   "execution_count": null,
   "id": "213baef7",
   "metadata": {
    "tags": []
   },
   "outputs": [],
   "source": [
    "CAE = ConvAutoencoder.build(200, 200, 1) # Model architecture "
   ]
  },
  {
   "cell_type": "code",
   "execution_count": null,
   "id": "eb0b38ed",
   "metadata": {
    "tags": []
   },
   "outputs": [],
   "source": [
    "start = time.time()\n",
    "callback = tf.keras.callbacks.EarlyStopping(monitor='loss', patience=10)\n",
    "CAE.fit(X_train0_CAE,X_train0_CAE, epochs=50,batch_size = 10, verbose = True, callbacks= [callback])\n",
    "print(f\"model trained in {(time.time()-start)/60} minutes\")"
   ]
  },
  {
   "cell_type": "code",
   "execution_count": null,
   "id": "2663aac4-371c-41c7-99e7-42bf10f66ff0",
   "metadata": {
    "tags": []
   },
   "outputs": [],
   "source": [
    "CAE.save('CAE200_200.h5')"
   ]
  },
  {
   "cell_type": "markdown",
   "id": "d2089159",
   "metadata": {
    "tags": []
   },
   "source": [
    "## Prediction"
   ]
  },
  {
   "cell_type": "code",
   "execution_count": null,
   "id": "4fff08b0",
   "metadata": {
    "tags": []
   },
   "outputs": [],
   "source": [
    "prediction_test0CAE = CAE.predict(X_test0CAE)\n",
    "prediction_test1CAE = CAE.predict(X_test1CAE)"
   ]
  },
  {
   "cell_type": "code",
   "execution_count": null,
   "id": "227ed88a",
   "metadata": {
    "tags": []
   },
   "outputs": [],
   "source": [
    "r_e_test0CAE = np.sum(np.sum((X_test0CAE-prediction_test0CAE) ** 2, axis=1),axis=1)\n",
    "r_e_test1CAE = np.sum(np.sum((X_test1CAE-prediction_test1CAE) ** 2, axis=1),axis=1)"
   ]
  },
  {
   "cell_type": "code",
   "execution_count": null,
   "id": "9cf1d128-d77f-40d9-afdd-27da2860c028",
   "metadata": {
    "tags": []
   },
   "outputs": [],
   "source": [
    "re_test = np.concatenate((r_e_test0CAE, r_e_test1CAE))"
   ]
  },
  {
   "cell_type": "code",
   "execution_count": null,
   "id": "bd83b13c-c02b-4a59-b45c-5a0b502446ff",
   "metadata": {
    "tags": []
   },
   "outputs": [],
   "source": [
    "threshold_t_CAE = np.quantile(re_test,0.7)"
   ]
  },
  {
   "cell_type": "code",
   "execution_count": null,
   "id": "16b5ee96",
   "metadata": {
    "tags": []
   },
   "outputs": [],
   "source": [
    "decision0CAE = -r_e_test0CAE + threshold_t_CAE\n",
    "decision1CAE = -r_e_test1CAE + threshold_t_CAE\n",
    "df0CAE = pd.DataFrame(decision0CAE, columns=['v'])\n",
    "df1CAE = pd.DataFrame(decision1CAE, columns=['v'])\n",
    "decision1CAE = -r_e_test1CAE"
   ]
  },
  {
   "cell_type": "code",
   "execution_count": null,
   "id": "44841250",
   "metadata": {
    "tags": []
   },
   "outputs": [],
   "source": [
    "# Computing f1 score of majority class\n",
    "recall = len(df1CAE[df1CAE.v<0])/len(df1CAE)\n",
    "precision = len(df1CAE[df1CAE.v<0])/(len(df1CAE[df1CAE.v<0])+len(df0CAE[df0CAE.v<0]))\n",
    "f1 = 2*precision*recall/(precision+recall)"
   ]
  },
  {
   "cell_type": "code",
   "execution_count": null,
   "id": "f0244e5e",
   "metadata": {
    "tags": []
   },
   "outputs": [],
   "source": [
    "# Computing f1 score of majority class\n",
    "recall_maj = len(df0CAE[df0CAE.v>0])/len(df0CAE)\n",
    "precision_maj = len(df0CAE[df0CAE.v>0])/(len(df1CAE[df1CAE.v>0])+len(df0CAE[df0CAE.v>0]))\n",
    "f1_maj = 2*precision_maj*recall_maj/(precision_maj+recall_maj)"
   ]
  },
  {
   "cell_type": "code",
   "execution_count": null,
   "id": "d4df64b2-2cbd-4576-a2a2-b2559f79ab90",
   "metadata": {
    "tags": []
   },
   "outputs": [],
   "source": [
    "df1CAE.describe()"
   ]
  },
  {
   "cell_type": "markdown",
   "id": "a034a3ab",
   "metadata": {
    "tags": []
   },
   "source": [
    "### Test score"
   ]
  },
  {
   "cell_type": "code",
   "execution_count": null,
   "id": "fcebc6ce",
   "metadata": {
    "tags": []
   },
   "outputs": [],
   "source": [
    "print(f\"Test scores:\")\n",
    "print(f\"minority class F1 score {f1}\")\n",
    "print(f\"majority class F1 score {f1_maj}\")\n",
    "print(f\"average F1 score {(f1+f1_maj)/2}\")"
   ]
  }
 ],
 "metadata": {
  "kernelspec": {
   "display_name": "autopytorch",
   "language": "python",
   "name": "autopytorch"
  },
  "language_info": {
   "codemirror_mode": {
    "name": "ipython",
    "version": 3
   },
   "file_extension": ".py",
   "mimetype": "text/x-python",
   "name": "python",
   "nbconvert_exporter": "python",
   "pygments_lexer": "ipython3",
   "version": "3.8.13"
  }
 },
 "nbformat": 4,
 "nbformat_minor": 5
}
