{
 "cells": [
  {
   "cell_type": "code",
   "execution_count": 1,
   "id": "84c24953",
   "metadata": {
    "tags": []
   },
   "outputs": [
    {
     "name": "stderr",
     "output_type": "stream",
     "text": [
      "2023-06-08 18:25:45.162798: I tensorflow/core/util/port.cc:110] oneDNN custom operations are on. You may see slightly different numerical results due to floating-point round-off errors from different computation orders. To turn them off, set the environment variable `TF_ENABLE_ONEDNN_OPTS=0`.\n",
      "2023-06-08 18:25:45.164111: I tensorflow/tsl/cuda/cudart_stub.cc:28] Could not find cuda drivers on your machine, GPU will not be used.\n",
      "2023-06-08 18:25:45.188667: I tensorflow/tsl/cuda/cudart_stub.cc:28] Could not find cuda drivers on your machine, GPU will not be used.\n",
      "2023-06-08 18:25:45.189099: I tensorflow/core/platform/cpu_feature_guard.cc:182] This TensorFlow binary is optimized to use available CPU instructions in performance-critical operations.\n",
      "To enable the following instructions: AVX2 AVX_VNNI FMA, in other operations, rebuild TensorFlow with the appropriate compiler flags.\n",
      "2023-06-08 18:25:45.556564: W tensorflow/compiler/tf2tensorrt/utils/py_utils.cc:38] TF-TRT Warning: Could not find TensorRT\n"
     ]
    }
   ],
   "source": [
    "import os \n",
    "import time\n",
    "import pandas as pd\n",
    "\n",
    "\n",
    "import keras \n",
    "import tensorflow as tf\n",
    "from keras import Sequential\n",
    "from keras.layers import LSTM\n",
    "from keras.layers import Dense\n",
    "from keras.layers import BatchNormalization\n",
    "from keras.layers import TimeDistributed\n",
    "from keras.models import Model\n",
    "from keras.layers import Conv2D\n",
    "from keras.layers import LeakyReLU\n",
    "from keras.layers import Activation\n",
    "from keras.layers import Flatten\n",
    "from keras.layers import Reshape\n",
    "from keras.layers import Input\n",
    "from keras import layers\n",
    "from keras.layers import Conv2DTranspose\n",
    "\n",
    "from keras import backend as K\n",
    "from keras.layers import TimeDistributed\n",
    "import numpy as np\n",
    "import librosa\n",
    "import matplotlib.pyplot as plt\n",
    "import librosa.display\n",
    "\n",
    "from sklearn.preprocessing import MinMaxScaler\n",
    "from sklearn.metrics import f1_score\n"
   ]
  },
  {
   "attachments": {},
   "cell_type": "markdown",
   "id": "97f9b2e4",
   "metadata": {
    "tags": []
   },
   "source": [
    "# Motor vibrations bearing defects"
   ]
  },
  {
   "attachments": {},
   "cell_type": "markdown",
   "id": "96e6b2a6",
   "metadata": {},
   "source": [
    "## Data imports"
   ]
  },
  {
   "cell_type": "code",
   "execution_count": 2,
   "id": "bf497ade",
   "metadata": {
    "tags": []
   },
   "outputs": [],
   "source": [
    "train_data_2 = pd.read_csv(\"dataset/train.csv\")\n",
    "test_data_2 = pd.read_csv(\"dataset/test.csv\")"
   ]
  },
  {
   "attachments": {},
   "cell_type": "markdown",
   "id": "df7a11cb",
   "metadata": {},
   "source": [
    "## Model setup( CNN AutoEncoder ) "
   ]
  },
  {
   "cell_type": "code",
   "execution_count": 3,
   "id": "49819e17",
   "metadata": {
    "tags": []
   },
   "outputs": [],
   "source": [
    "class ConvAutoencoder:\n",
    "    @staticmethod\n",
    "    def build(width, height, depth, filters=(32, 64), latentDim=100):\n",
    "        # initialize the input shape to be \"channels last\" along with\n",
    "        # the channels dimension itself\n",
    "        # channels dimension itself\n",
    "        inputShape = (height, width, depth)\n",
    "        chanDim = -1\n",
    "        # define the input to the encoder\n",
    "        inputs = Input(shape=inputShape)\n",
    "        x = inputs\n",
    "        # loop over the number of filters\n",
    "        for f in filters:\n",
    "        # apply a CONV => RELU => BN operation\n",
    "            x = Conv2D(f, (3, 3), strides=2, padding=\"same\")(x)\n",
    "            x = LeakyReLU(alpha=0.2)(x)\n",
    "            x = BatchNormalization(axis=chanDim)(x)\n",
    "        # flatten the network and then construct our latent vector\n",
    "        volumeSize = K.int_shape(x)\n",
    "        x = Flatten()(x)\n",
    "        latent = Dense(latentDim)(x)\n",
    "        # build the encoder model\n",
    "        encoder = Model(inputs, latent, name=\"encoder\")\n",
    "        # start building the decoder model which will accept the\n",
    "        # output of the encoder as its inputs\n",
    "        latentInputs = Input(shape=(latentDim,))\n",
    "        x = Dense(np.prod(volumeSize[1:]))(latentInputs)\n",
    "        x = Reshape((volumeSize[1], volumeSize[2], volumeSize[3]))(x)\n",
    "        # loop over our number of filters again, but this time in\n",
    "        # reverse order\n",
    "        for f in filters[::-1]:\n",
    "            # apply a CONV_TRANSPOSE => RELU => BN operation\n",
    "            x = Conv2DTranspose(f, (3, 3), strides=2,\n",
    "                padding=\"same\")(x)\n",
    "            x = LeakyReLU(alpha=0.2)(x)\n",
    "            x = BatchNormalization(axis=chanDim)(x)\n",
    "        # apply a single CONV_TRANSPOSE layer used to recover the\n",
    "        # original depth of the image\n",
    "        x = Conv2DTranspose(depth, (3, 3), padding=\"same\")(x)\n",
    "        outputs = Activation(\"sigmoid\")(x)\n",
    "        # build the decoder model\n",
    "        decoder = Model(latentInputs, outputs, name=\"decoder\")\n",
    "        # our autoencoder is the encoder + decoder\n",
    "        autoencoder = Model(inputs, decoder(encoder(inputs)),\n",
    "        name=\"autoencoder\")\n",
    "        optimizer = tf.keras.optimizers.Adam(learning_rate=0.01)\n",
    "        autoencoder.compile(loss=\"mse\", optimizer=optimizer)\n",
    "        return autoencoder"
   ]
  },
  {
   "attachments": {},
   "cell_type": "markdown",
   "id": "c2ab2a70",
   "metadata": {},
   "source": [
    "## Data formating"
   ]
  },
  {
   "cell_type": "code",
   "execution_count": null,
   "id": "b68e4663",
   "metadata": {
    "tags": []
   },
   "outputs": [],
   "source": [
    "\n",
    "def build_spectrograms(data,window,saving_folder,step,label_col = 'Class'):\n",
    "    i = 0\n",
    "    range_df = i*step\n",
    "    while range_df+window < len(data):\n",
    "        range_df = i*step\n",
    "        y = data[range_df:range_df+window].value.values\n",
    "        img_class = 1 if data[range_df:range_df+window][label_col].sum() > 0.3*window else  0\n",
    "        S_left = librosa.stft(y, center=True, n_fft=int(window/2))\n",
    "        fig, ax = plt.subplots()\n",
    "        img = librosa.display.specshow(librosa.amplitude_to_db(S_left,\n",
    "                                                               ref=np.max),\n",
    "                                       y_axis='log', x_axis='time', ax=ax)\n",
    "        ax.set_title('Power spectrogram')\n",
    "        fig.colorbar(img, ax=ax, format=\"%+2.0f dB\")\n",
    "        plt.savefig(f\"{saving_folder}/class_{img_class}/{range_df}_{range_df+window-1}.png\")\n",
    "        print(f\"{saving_folder}/class_{img_class}/{range_df}_{range_df+window-1}.png\")\n",
    "        i+=1\n"
   ]
  },
  {
   "cell_type": "code",
   "execution_count": null,
   "id": "c649ed32",
   "metadata": {
    "tags": []
   },
   "outputs": [],
   "source": [
    "# build_spectrograms(train_data_2,500,\"Spectrograms/Train\",200)\n",
    "# build_spectrograms(test_data_2,500,\"Spectrograms/Test\",200)"
   ]
  },
  {
   "attachments": {},
   "cell_type": "markdown",
   "id": "6b28d91e",
   "metadata": {},
   "source": [
    "## Spectrograms loading"
   ]
  },
  {
   "cell_type": "code",
   "execution_count": 4,
   "id": "7b8a03e2",
   "metadata": {
    "tags": []
   },
   "outputs": [],
   "source": [
    "# Custom loading of training data\n",
    "train_folder = \"dataset/Spectrograms/Train\"\n",
    "train_images = []\n",
    "ano_images = [] \n",
    "class_data = [\"class_0\",\"class_1\"]\n",
    "for label in class_data:\n",
    "    for i,img in enumerate(os.listdir(f\"{train_folder}/{label}/\")):\n",
    "        if 'png' in img:\n",
    "            image = tf.keras.utils.load_img(f\"{train_folder}/{label}/{img}\",color_mode = \"grayscale\",target_size=(100, 100))\n",
    "            input_arr = tf.keras.utils.img_to_array(image)/255.0\n",
    "            if label == \"class_0\":    \n",
    "                train_images.append(input_arr)\n",
    "            else:\n",
    "                ano_images.append(input_arr)\n"
   ]
  },
  {
   "cell_type": "code",
   "execution_count": 5,
   "id": "a118f5b1",
   "metadata": {
    "tags": []
   },
   "outputs": [],
   "source": [
    "X_train0_CAE = np.array(train_images) # Training data without anomalies\n",
    "X_train1_CAE = np.array(ano_images) # Training data with anomalies"
   ]
  },
  {
   "cell_type": "code",
   "execution_count": 6,
   "id": "0c4720ba",
   "metadata": {
    "tags": []
   },
   "outputs": [],
   "source": [
    "# Custom loading of test data\n",
    "test_folder = \"dataset/Spectrograms/Test\"\n",
    "test_images0 = []\n",
    "test_images1 = [] \n",
    "class_data = [\"class_0\",\"class_1\"]\n",
    "for label in class_data:\n",
    "    for i,img in enumerate(os.listdir(f\"{test_folder}/{label}/\")):\n",
    "        if 'png' in img:\n",
    "            image = tf.keras.utils.load_img(f\"{test_folder}/{label}/{img}\",color_mode = \"grayscale\",target_size=(100, 100))\n",
    "            input_arr = tf.keras.utils.img_to_array(image)/255.0\n",
    "            if label == \"class_0\":    \n",
    "                test_images0.append(input_arr)\n",
    "            else:\n",
    "                test_images1.append(input_arr)"
   ]
  },
  {
   "cell_type": "code",
   "execution_count": 7,
   "id": "6f7ab356",
   "metadata": {
    "tags": []
   },
   "outputs": [],
   "source": [
    "X_test0CAE = np.array(test_images0) # Test data without anomalies\n",
    "X_test1CAE = np.array(test_images1) # Test data with anomalies"
   ]
  },
  {
   "attachments": {},
   "cell_type": "markdown",
   "id": "3e9d60d2",
   "metadata": {
    "tags": []
   },
   "source": [
    "## Model learning"
   ]
  },
  {
   "cell_type": "code",
   "execution_count": 8,
   "id": "35a32296",
   "metadata": {
    "tags": []
   },
   "outputs": [],
   "source": [
    "CAE = ConvAutoencoder.build(100, 100, 1) # Model architecture"
   ]
  },
  {
   "cell_type": "code",
   "execution_count": 9,
   "id": "736cd578",
   "metadata": {
    "tags": []
   },
   "outputs": [
    {
     "name": "stdout",
     "output_type": "stream",
     "text": [
      "Epoch 1/100\n",
      "36/36 [==============================] - 4s 93ms/step - loss: 0.0338\n",
      "Epoch 2/100\n",
      "36/36 [==============================] - 3s 93ms/step - loss: 0.0099\n",
      "Epoch 3/100\n",
      "36/36 [==============================] - 3s 92ms/step - loss: 0.0075\n",
      "Epoch 4/100\n",
      "36/36 [==============================] - 3s 92ms/step - loss: 0.0043\n",
      "Epoch 5/100\n",
      "36/36 [==============================] - 3s 92ms/step - loss: 0.0037\n",
      "Epoch 6/100\n",
      "36/36 [==============================] - 3s 92ms/step - loss: 0.0035\n",
      "Epoch 7/100\n",
      "36/36 [==============================] - 4s 98ms/step - loss: 0.0033\n",
      "Epoch 8/100\n",
      "36/36 [==============================] - 4s 107ms/step - loss: 0.0030\n",
      "Epoch 9/100\n",
      "36/36 [==============================] - 4s 108ms/step - loss: 0.0028\n",
      "Epoch 10/100\n",
      "36/36 [==============================] - 4s 107ms/step - loss: 0.0026\n",
      "Epoch 11/100\n",
      "36/36 [==============================] - 4s 107ms/step - loss: 0.0024\n",
      "Epoch 12/100\n",
      "36/36 [==============================] - 4s 107ms/step - loss: 0.0023\n",
      "Epoch 13/100\n",
      "36/36 [==============================] - 4s 107ms/step - loss: 0.0023\n",
      "Epoch 14/100\n",
      "36/36 [==============================] - 4s 107ms/step - loss: 0.0021\n",
      "Epoch 15/100\n",
      "36/36 [==============================] - 4s 107ms/step - loss: 0.0021\n",
      "Epoch 16/100\n",
      "36/36 [==============================] - 4s 107ms/step - loss: 0.0018\n",
      "Epoch 17/100\n",
      "36/36 [==============================] - 4s 108ms/step - loss: 0.0018\n",
      "Epoch 18/100\n",
      "36/36 [==============================] - 4s 107ms/step - loss: 0.0017\n",
      "Epoch 19/100\n",
      "36/36 [==============================] - 4s 107ms/step - loss: 0.0017\n",
      "Epoch 20/100\n",
      "36/36 [==============================] - 4s 108ms/step - loss: 0.0016\n",
      "Epoch 21/100\n",
      "36/36 [==============================] - 4s 107ms/step - loss: 0.0015\n",
      "Epoch 22/100\n",
      "36/36 [==============================] - 4s 108ms/step - loss: 0.0016\n",
      "Epoch 23/100\n",
      "36/36 [==============================] - 4s 108ms/step - loss: 0.0015\n",
      "Epoch 24/100\n",
      "36/36 [==============================] - 4s 107ms/step - loss: 0.0014\n",
      "Epoch 25/100\n",
      "36/36 [==============================] - 4s 108ms/step - loss: 0.0013\n",
      "Epoch 26/100\n",
      "36/36 [==============================] - 4s 108ms/step - loss: 0.0012\n",
      "Epoch 27/100\n",
      "36/36 [==============================] - 4s 108ms/step - loss: 0.0012\n",
      "Epoch 28/100\n",
      "36/36 [==============================] - 4s 108ms/step - loss: 0.0011\n",
      "Epoch 29/100\n",
      "36/36 [==============================] - 4s 108ms/step - loss: 0.0011\n",
      "Epoch 30/100\n",
      "36/36 [==============================] - 4s 108ms/step - loss: 0.0012\n",
      "Epoch 31/100\n",
      "36/36 [==============================] - 4s 107ms/step - loss: 0.0011\n",
      "Epoch 32/100\n",
      "36/36 [==============================] - 4s 108ms/step - loss: 0.0011\n",
      "Epoch 33/100\n",
      "36/36 [==============================] - 4s 108ms/step - loss: 0.0011\n",
      "Epoch 34/100\n",
      "36/36 [==============================] - 4s 107ms/step - loss: 0.0010\n",
      "Epoch 35/100\n",
      "36/36 [==============================] - 4s 107ms/step - loss: 0.0010\n",
      "Epoch 36/100\n",
      "36/36 [==============================] - 4s 107ms/step - loss: 9.8167e-04\n",
      "Epoch 37/100\n",
      "36/36 [==============================] - 4s 108ms/step - loss: 0.0010\n",
      "Epoch 38/100\n",
      "36/36 [==============================] - 4s 108ms/step - loss: 9.6531e-04\n",
      "Epoch 39/100\n",
      "36/36 [==============================] - 4s 107ms/step - loss: 9.0391e-04\n",
      "Epoch 40/100\n",
      "36/36 [==============================] - 4s 107ms/step - loss: 0.0010\n",
      "Epoch 41/100\n",
      "36/36 [==============================] - 4s 108ms/step - loss: 9.2427e-04\n",
      "Epoch 42/100\n",
      "36/36 [==============================] - 4s 107ms/step - loss: 8.9367e-04\n",
      "Epoch 43/100\n",
      "36/36 [==============================] - 4s 107ms/step - loss: 8.8175e-04\n",
      "Epoch 44/100\n",
      "36/36 [==============================] - 4s 107ms/step - loss: 8.7238e-04\n",
      "Epoch 45/100\n",
      "36/36 [==============================] - 4s 107ms/step - loss: 8.9062e-04\n",
      "Epoch 46/100\n",
      "36/36 [==============================] - 4s 108ms/step - loss: 8.5308e-04\n",
      "Epoch 47/100\n",
      "36/36 [==============================] - 4s 108ms/step - loss: 8.6720e-04\n",
      "Epoch 48/100\n",
      "36/36 [==============================] - 4s 107ms/step - loss: 8.6700e-04\n",
      "Epoch 49/100\n",
      "36/36 [==============================] - 4s 108ms/step - loss: 8.2024e-04\n",
      "Epoch 50/100\n",
      "36/36 [==============================] - 4s 108ms/step - loss: 8.0790e-04\n",
      "Epoch 51/100\n",
      "36/36 [==============================] - 4s 107ms/step - loss: 8.2700e-04\n",
      "Epoch 52/100\n",
      "36/36 [==============================] - 4s 108ms/step - loss: 8.2033e-04\n",
      "Epoch 53/100\n",
      "36/36 [==============================] - 4s 108ms/step - loss: 8.0067e-04\n",
      "Epoch 54/100\n",
      "36/36 [==============================] - 4s 109ms/step - loss: 7.6313e-04\n",
      "Epoch 55/100\n",
      "36/36 [==============================] - 4s 109ms/step - loss: 8.2370e-04\n",
      "Epoch 56/100\n",
      "36/36 [==============================] - 4s 110ms/step - loss: 7.4734e-04\n",
      "Epoch 57/100\n",
      "36/36 [==============================] - 4s 109ms/step - loss: 7.3006e-04\n",
      "Epoch 58/100\n",
      "36/36 [==============================] - 4s 108ms/step - loss: 6.9245e-04\n",
      "Epoch 59/100\n",
      "36/36 [==============================] - 4s 114ms/step - loss: 7.1697e-04\n",
      "Epoch 60/100\n",
      "36/36 [==============================] - 4s 114ms/step - loss: 6.9054e-04\n",
      "Epoch 61/100\n",
      "36/36 [==============================] - 4s 115ms/step - loss: 6.4541e-04\n",
      "Epoch 62/100\n",
      "36/36 [==============================] - 4s 112ms/step - loss: 6.4353e-04\n",
      "Epoch 63/100\n",
      "36/36 [==============================] - 4s 115ms/step - loss: 6.7630e-04\n",
      "Epoch 64/100\n",
      "36/36 [==============================] - 4s 115ms/step - loss: 7.0883e-04\n",
      "Epoch 65/100\n",
      "36/36 [==============================] - 4s 111ms/step - loss: 6.6330e-04\n",
      "Epoch 66/100\n",
      "36/36 [==============================] - 4s 111ms/step - loss: 6.7841e-04\n",
      "Epoch 67/100\n",
      "36/36 [==============================] - 4s 109ms/step - loss: 6.3542e-04\n",
      "Epoch 68/100\n",
      "36/36 [==============================] - 4s 110ms/step - loss: 6.0216e-04\n",
      "Epoch 69/100\n",
      "36/36 [==============================] - 4s 110ms/step - loss: 5.7668e-04\n",
      "Epoch 70/100\n",
      "36/36 [==============================] - 4s 109ms/step - loss: 6.0767e-04\n",
      "Epoch 71/100\n",
      "36/36 [==============================] - 4s 109ms/step - loss: 5.9235e-04\n",
      "Epoch 72/100\n",
      "36/36 [==============================] - 4s 108ms/step - loss: 5.9908e-04\n",
      "Epoch 73/100\n",
      "36/36 [==============================] - 4s 109ms/step - loss: 5.3994e-04\n",
      "Epoch 74/100\n",
      "36/36 [==============================] - 4s 110ms/step - loss: 5.5999e-04\n",
      "Epoch 75/100\n",
      "36/36 [==============================] - 4s 110ms/step - loss: 5.0851e-04\n",
      "Epoch 76/100\n",
      "36/36 [==============================] - 4s 120ms/step - loss: 5.1806e-04\n",
      "Epoch 77/100\n",
      "36/36 [==============================] - 4s 109ms/step - loss: 5.2717e-04\n",
      "Epoch 78/100\n",
      "36/36 [==============================] - 4s 110ms/step - loss: 5.4091e-04\n",
      "Epoch 79/100\n",
      "36/36 [==============================] - 4s 109ms/step - loss: 5.0964e-04\n",
      "Epoch 80/100\n",
      "36/36 [==============================] - 4s 110ms/step - loss: 5.4715e-04\n",
      "model trained in 5.172903494040171 minutes\n"
     ]
    }
   ],
   "source": [
    "start = time.time()\n",
    "callback = tf.keras.callbacks.EarlyStopping(monitor='loss', patience=5)\n",
    "CAE.fit(X_train0_CAE,X_train0_CAE, epochs=100, verbose = True, callbacks= [callback])\n",
    "print(f\"model trained in {(time.time()-start)/60} minutes\")"
   ]
  },
  {
   "cell_type": "markdown",
   "id": "26de9e34",
   "metadata": {
    "tags": []
   },
   "source": [
    "## Prediction"
   ]
  },
  {
   "cell_type": "code",
   "execution_count": 10,
   "id": "ea4a8ed7",
   "metadata": {
    "tags": []
   },
   "outputs": [
    {
     "name": "stdout",
     "output_type": "stream",
     "text": [
      "36/36 [==============================] - 1s 34ms/step\n",
      "9/9 [==============================] - 0s 33ms/step\n"
     ]
    }
   ],
   "source": [
    "predictions0CAE = CAE.predict(X_train0_CAE) # Prediction on data without anomalies\n",
    "predictions1CAE = CAE.predict(X_train1_CAE) # Prediction on data with anomalies"
   ]
  },
  {
   "cell_type": "code",
   "execution_count": 11,
   "id": "b1616876",
   "metadata": {
    "tags": []
   },
   "outputs": [],
   "source": [
    "r_e_CAE = np.sum(np.sum((X_train0_CAE-predictions0CAE) ** 2, axis=1),axis = 1) # Computing reconstruction error of training data without anomalies\n",
    "r_e_anos_CAE = np.sum(np.sum((X_train1_CAE-predictions1CAE) ** 2, axis=1),axis = 1) # Computing reconstruction error of training data with anomalies\n",
    "threshold_t_CAE = np.quantile(r_e_CAE,0.95) # Setting reconstruction error threshold"
   ]
  },
  {
   "cell_type": "code",
   "execution_count": 12,
   "id": "ae9727ea",
   "metadata": {
    "tags": []
   },
   "outputs": [
    {
     "name": "stdout",
     "output_type": "stream",
     "text": [
      "37/37 [==============================] - 1s 33ms/step\n",
      "8/8 [==============================] - 0s 32ms/step\n"
     ]
    }
   ],
   "source": [
    "prediction_test0CAE = CAE.predict(X_test0CAE)\n",
    "prediction_test1CAE = CAE.predict(X_test1CAE)"
   ]
  },
  {
   "cell_type": "code",
   "execution_count": 13,
   "id": "8b25b1bd",
   "metadata": {
    "tags": []
   },
   "outputs": [],
   "source": [
    "r_e_test0CAE = np.sum(np.sum((X_test0CAE-prediction_test0CAE) ** 2, axis=1),axis=1)\n",
    "r_e_test1CAE = np.sum(np.sum((X_test1CAE-prediction_test1CAE) ** 2, axis=1),axis=1)"
   ]
  },
  {
   "cell_type": "code",
   "execution_count": 14,
   "id": "c072b51e",
   "metadata": {
    "tags": []
   },
   "outputs": [],
   "source": [
    "decision0CAE = -r_e_test0CAE + threshold_t_CAE\n",
    "decision1CAE = -r_e_test1CAE + threshold_t_CAE\n",
    "df0CAE = pd.DataFrame(decision0CAE, columns=['v'])\n",
    "df1CAE = pd.DataFrame(decision1CAE, columns=['v'])"
   ]
  },
  {
   "cell_type": "code",
   "execution_count": 15,
   "id": "5bceeb96",
   "metadata": {
    "tags": []
   },
   "outputs": [],
   "source": [
    "# Computing f1 score of minority class\n",
    "recall = len(df1CAE[df1CAE.v<0])/len(df1CAE)\n",
    "precision = len(df1CAE[df1CAE.v<0])/(len(df1CAE[df1CAE.v<0])+len(df0CAE[df0CAE.v<0]))\n",
    "f1 = 2*precision*recall/(precision+recall)"
   ]
  },
  {
   "cell_type": "code",
   "execution_count": 16,
   "id": "4022d23c",
   "metadata": {
    "tags": []
   },
   "outputs": [],
   "source": [
    "# Computing f1 score of majority class\n",
    "recall_maj = len(df0CAE[df0CAE.v>0])/len(df0CAE)\n",
    "precision_maj = len(df0CAE[df0CAE.v>0])/(len(df1CAE[df1CAE.v>0])+len(df0CAE[df0CAE.v>0]))\n",
    "f1_maj = 2*precision_maj*recall_maj/(precision_maj+recall_maj)"
   ]
  },
  {
   "cell_type": "markdown",
   "id": "e88827fb",
   "metadata": {
    "tags": []
   },
   "source": [
    "### Test score"
   ]
  },
  {
   "cell_type": "code",
   "execution_count": 17,
   "id": "7af267c0",
   "metadata": {
    "tags": []
   },
   "outputs": [
    {
     "name": "stdout",
     "output_type": "stream",
     "text": [
      "Test scores:\n",
      "minority class F1 score 0.7096774193548387\n",
      "majority class F1 score 0.9293193717277486\n",
      "average F1 score 0.8194983955412937\n"
     ]
    }
   ],
   "source": [
    "print(f\"Test scores:\")\n",
    "print(f\"minority class F1 score {f1}\")\n",
    "print(f\"majority class F1 score {f1_maj}\")\n",
    "print(f\"average F1 score {(f1+f1_maj)/2}\")"
   ]
  },
  {
   "cell_type": "code",
   "execution_count": null,
   "id": "b380371d-d2f8-4185-bbe5-bbd567c11fe7",
   "metadata": {},
   "outputs": [],
   "source": []
  }
 ],
 "metadata": {
  "kernelspec": {
   "display_name": "Python 3 (ipykernel)",
   "language": "python",
   "name": "python3"
  },
  "language_info": {
   "codemirror_mode": {
    "name": "ipython",
    "version": 3
   },
   "file_extension": ".py",
   "mimetype": "text/x-python",
   "name": "python",
   "nbconvert_exporter": "python",
   "pygments_lexer": "ipython3",
   "version": "3.10.6"
  }
 },
 "nbformat": 4,
 "nbformat_minor": 5
}
