{
 "cells": [
  {
   "cell_type": "code",
   "execution_count": 3,
   "id": "84c24953",
   "metadata": {
    "tags": []
   },
   "outputs": [],
   "source": [
    "import os \n",
    "import time\n",
    "import pandas as pd\n",
    "\n",
    "\n",
    "import keras \n",
    "import tensorflow as tf\n",
    "from tensorflow.keras import Sequential\n",
    "from tensorflow.keras.layers import LSTM\n",
    "from tensorflow.keras.layers import Dense\n",
    "from tensorflow.keras.layers import BatchNormalization\n",
    "from tensorflow.keras.layers import TimeDistributed\n",
    "from tensorflow.keras.models import Model\n",
    "from tensorflow.keras.layers import Conv2D\n",
    "from tensorflow.keras.layers import LeakyReLU\n",
    "from tensorflow.keras.layers import Activation\n",
    "from tensorflow.keras.layers import Flatten\n",
    "from tensorflow.keras.layers import Reshape\n",
    "from tensorflow.keras.layers import Input\n",
    "from keras import layers\n",
    "from keras.layers import Conv2DTranspose\n",
    "\n",
    "from tensorflow.keras import backend as K\n",
    "from tensorflow.keras.layers import TimeDistributed\n",
    "import numpy as np\n",
    "import librosa\n",
    "import matplotlib.pyplot as plt\n",
    "import librosa.display\n",
    "\n",
    "from sklearn.preprocessing import MinMaxScaler\n",
    "from sklearn.metrics import f1_score\n"
   ]
  },
  {
   "cell_type": "markdown",
   "id": "97f9b2e4",
   "metadata": {
    "tags": []
   },
   "source": [
    "# Detection semi-supérvisé des signaux d'usure des roulements"
   ]
  },
  {
   "cell_type": "markdown",
   "id": "96e6b2a6",
   "metadata": {},
   "source": [
    "## Import des données"
   ]
  },
  {
   "cell_type": "code",
   "execution_count": null,
   "id": "bf497ade",
   "metadata": {
    "tags": []
   },
   "outputs": [],
   "source": [
    "train_data_2 = pd.read_csv(\"Dataset5/train.csv\")\n",
    "test_data_2 = pd.read_csv(\"Dataset5/test.csv\")"
   ]
  },
  {
   "cell_type": "markdown",
   "id": "df7a11cb",
   "metadata": {},
   "source": [
    "## Creation de modèle ( CNN AE ) "
   ]
  },
  {
   "cell_type": "code",
   "execution_count": null,
   "id": "49819e17",
   "metadata": {
    "tags": []
   },
   "outputs": [],
   "source": [
    "class ConvAutoencoder:\n",
    "    @staticmethod\n",
    "    def build(width, height, depth, filters=(32, 64), latentDim=100):\n",
    "        # initialize the input shape to be \"channels last\" along with\n",
    "        # the channels dimension itself\n",
    "        # channels dimension itself\n",
    "        inputShape = (height, width, depth)\n",
    "        chanDim = -1\n",
    "        # define the input to the encoder\n",
    "        inputs = Input(shape=inputShape)\n",
    "        x = inputs\n",
    "        # loop over the number of filters\n",
    "        for f in filters:\n",
    "        # apply a CONV => RELU => BN operation\n",
    "            x = Conv2D(f, (3, 3), strides=2, padding=\"same\")(x)\n",
    "            x = LeakyReLU(alpha=0.2)(x)\n",
    "            x = BatchNormalization(axis=chanDim)(x)\n",
    "        # flatten the network and then construct our latent vector\n",
    "        volumeSize = K.int_shape(x)\n",
    "        x = Flatten()(x)\n",
    "        latent = Dense(latentDim)(x)\n",
    "        # build the encoder model\n",
    "        encoder = Model(inputs, latent, name=\"encoder\")\n",
    "        # start building the decoder model which will accept the\n",
    "        # output of the encoder as its inputs\n",
    "        latentInputs = Input(shape=(latentDim,))\n",
    "        x = Dense(np.prod(volumeSize[1:]))(latentInputs)\n",
    "        x = Reshape((volumeSize[1], volumeSize[2], volumeSize[3]))(x)\n",
    "        # loop over our number of filters again, but this time in\n",
    "        # reverse order\n",
    "        for f in filters[::-1]:\n",
    "            # apply a CONV_TRANSPOSE => RELU => BN operation\n",
    "            x = Conv2DTranspose(f, (3, 3), strides=2,\n",
    "                padding=\"same\")(x)\n",
    "            x = LeakyReLU(alpha=0.2)(x)\n",
    "            x = BatchNormalization(axis=chanDim)(x)\n",
    "        # apply a single CONV_TRANSPOSE layer used to recover the\n",
    "        # original depth of the image\n",
    "        x = Conv2DTranspose(depth, (3, 3), padding=\"same\")(x)\n",
    "        outputs = Activation(\"sigmoid\")(x)\n",
    "        # build the decoder model\n",
    "        decoder = Model(latentInputs, outputs, name=\"decoder\")\n",
    "        # our autoencoder is the encoder + decoder\n",
    "        autoencoder = Model(inputs, decoder(encoder(inputs)),\n",
    "        name=\"autoencoder\")\n",
    "        optimizer = tf.keras.optimizers.Adam(learning_rate=0.01)\n",
    "        autoencoder.compile(loss=\"mse\", optimizer=optimizer)\n",
    "        return autoencoder"
   ]
  },
  {
   "cell_type": "markdown",
   "id": "c2ab2a70",
   "metadata": {},
   "source": [
    "## Preparation des données"
   ]
  },
  {
   "cell_type": "code",
   "execution_count": null,
   "id": "b68e4663",
   "metadata": {
    "tags": []
   },
   "outputs": [],
   "source": [
    "\n",
    "def build_spectrograms(data,window,saving_folder,step,label_col = 'Class'):\n",
    "    i = 0\n",
    "    range_df = i*step\n",
    "    while range_df+window < len(data):\n",
    "        range_df = i*step\n",
    "        y = data[range_df:range_df+window].value.values\n",
    "        img_class = 1 if data[range_df:range_df+window][label_col].sum() > 0.3*window else  0\n",
    "        S_left = librosa.stft(y, center=True, n_fft=int(window/2))\n",
    "        fig, ax = plt.subplots()\n",
    "        img = librosa.display.specshow(librosa.amplitude_to_db(S_left,\n",
    "                                                               ref=np.max),\n",
    "                                       y_axis='log', x_axis='time', ax=ax)\n",
    "        ax.set_title('Power spectrogram')\n",
    "        fig.colorbar(img, ax=ax, format=\"%+2.0f dB\")\n",
    "        plt.savefig(f\"{saving_folder}/class_{img_class}/{range_df}_{range_df+window-1}.png\")\n",
    "        print(f\"{saving_folder}/class_{img_class}/{range_df}_{range_df+window-1}.png\")\n",
    "        i+=1\n"
   ]
  },
  {
   "cell_type": "code",
   "execution_count": null,
   "id": "c649ed32",
   "metadata": {
    "tags": []
   },
   "outputs": [],
   "source": [
    "# build_spectrograms(train_data_2,500,\"Spectrograms6/Train\",200)\n",
    "# build_spectrograms(test_data_2,500,\"Spectrograms6/Test\",200)"
   ]
  },
  {
   "cell_type": "markdown",
   "id": "6b28d91e",
   "metadata": {},
   "source": [
    "## Chargement des spectrogrammes"
   ]
  },
  {
   "cell_type": "code",
   "execution_count": null,
   "id": "7b8a03e2",
   "metadata": {
    "tags": []
   },
   "outputs": [],
   "source": [
    "#chargement des données de spéctrogramme d'entrainement\n",
    "train_folder = \"SpectrogramsNB2/Train\"\n",
    "train_images = []\n",
    "ano_images = [] \n",
    "class_data = [\"class_0\",\"class_1\"]\n",
    "for label in class_data:\n",
    "    for i,img in enumerate(os.listdir(f\"{train_folder}/{label}/\")):\n",
    "        if 'png' in img:\n",
    "            image = tf.keras.utils.load_img(f\"{train_folder}/{label}/{img}\",color_mode = \"grayscale\",target_size=(100, 100))\n",
    "            input_arr = tf.keras.utils.img_to_array(image)/255.0\n",
    "            if label == \"class_0\":    \n",
    "                train_images.append(input_arr)\n",
    "            else:\n",
    "                ano_images.append(input_arr)\n"
   ]
  },
  {
   "cell_type": "code",
   "execution_count": null,
   "id": "a118f5b1",
   "metadata": {
    "tags": []
   },
   "outputs": [],
   "source": [
    "X_train0_CAE = np.array(train_images) # spectrograms de données normal train\n",
    "X_train1_CAE = np.array(ano_images) # spectrograms de données anormal train"
   ]
  },
  {
   "cell_type": "code",
   "execution_count": null,
   "id": "0c4720ba",
   "metadata": {
    "tags": []
   },
   "outputs": [],
   "source": [
    "#chargement des données de spéctrogramme de test\n",
    "test_folder = \"SpectrogramsNB2/Test\"\n",
    "test_images0 = []\n",
    "test_images1 = [] \n",
    "class_data = [\"class_0\",\"class_1\"]\n",
    "for label in class_data:\n",
    "    for i,img in enumerate(os.listdir(f\"{test_folder}/{label}/\")):\n",
    "        if 'png' in img:\n",
    "            image = tf.keras.utils.load_img(f\"{test_folder}/{label}/{img}\",color_mode = \"grayscale\",target_size=(100, 100))\n",
    "            input_arr = tf.keras.utils.img_to_array(image)/255.0\n",
    "            if label == \"class_0\":    \n",
    "                test_images0.append(input_arr)\n",
    "            else:\n",
    "                test_images1.append(input_arr)"
   ]
  },
  {
   "cell_type": "code",
   "execution_count": null,
   "id": "6f7ab356",
   "metadata": {
    "tags": []
   },
   "outputs": [],
   "source": [
    "X_test0CAE = np.array(test_images0) # spectrograms de données normal test\n",
    "X_test1CAE = np.array(test_images1) # spectrograms de données anormal test"
   ]
  },
  {
   "cell_type": "markdown",
   "id": "3e9d60d2",
   "metadata": {
    "tags": []
   },
   "source": [
    "## Apprentissage du modèle"
   ]
  },
  {
   "cell_type": "code",
   "execution_count": null,
   "id": "35a32296",
   "metadata": {
    "tags": []
   },
   "outputs": [],
   "source": [
    "CAE = ConvAutoencoder.build(100, 100, 1) # construction de l'architecture"
   ]
  },
  {
   "cell_type": "code",
   "execution_count": null,
   "id": "736cd578",
   "metadata": {
    "tags": []
   },
   "outputs": [],
   "source": [
    "start = time.time()\n",
    "callback = tf.keras.callbacks.EarlyStopping(monitor='loss', patience=5)\n",
    "CAE.fit(X_train0_CAE,X_train0_CAE, epochs=100, verbose = True, callbacks= [callback])\n",
    "print(f\"model trained in {(time.time()-start)/60} minutes\")"
   ]
  },
  {
   "cell_type": "markdown",
   "id": "26de9e34",
   "metadata": {
    "tags": []
   },
   "source": [
    "## Prediction"
   ]
  },
  {
   "cell_type": "code",
   "execution_count": null,
   "id": "ea4a8ed7",
   "metadata": {
    "tags": []
   },
   "outputs": [],
   "source": [
    "predictions0CAE = CAE.predict(X_train0_CAE) # normal data predictions\n",
    "predictions1CAE = CAE.predict(X_train1_CAE) # anomalies predictions"
   ]
  },
  {
   "cell_type": "code",
   "execution_count": null,
   "id": "b1616876",
   "metadata": {
    "tags": []
   },
   "outputs": [],
   "source": [
    "r_e_CAE = np.sum(np.sum((X_train0_CAE-predictions0CAE) ** 2, axis=1),axis = 1) # computing reconstruction error of normal train data \n",
    "r_e_anos_CAE = np.sum(np.sum((X_train1_CAE-predictions1CAE) ** 2, axis=1),axis = 1) # computing reconstruction error of abnormal train data \n",
    "threshold_t_CAE = np.quantile(r_e_CAE,0.95) # setting reconstruction error threshold"
   ]
  },
  {
   "cell_type": "code",
   "execution_count": null,
   "id": "ae9727ea",
   "metadata": {
    "tags": []
   },
   "outputs": [],
   "source": [
    "prediction_test0CAE = CAE.predict(X_test0CAE)\n",
    "prediction_test1CAE = CAE.predict(X_test1CAE)"
   ]
  },
  {
   "cell_type": "code",
   "execution_count": null,
   "id": "8b25b1bd",
   "metadata": {
    "tags": []
   },
   "outputs": [],
   "source": [
    "r_e_test0CAE = np.sum(np.sum((X_test0CAE-prediction_test0CAE) ** 2, axis=1),axis=1)\n",
    "r_e_test1CAE = np.sum(np.sum((X_test1CAE-prediction_test1CAE) ** 2, axis=1),axis=1)"
   ]
  },
  {
   "cell_type": "code",
   "execution_count": null,
   "id": "c072b51e",
   "metadata": {
    "tags": []
   },
   "outputs": [],
   "source": [
    "decision0CAE = -r_e_test0CAE + threshold_t_CAE\n",
    "decision1CAE = -r_e_test1CAE + threshold_t_CAE\n",
    "df0CAE = pd.DataFrame(decision0CAE, columns=['v'])\n",
    "df1CAE = pd.DataFrame(decision1CAE, columns=['v'])"
   ]
  },
  {
   "cell_type": "code",
   "execution_count": null,
   "id": "5bceeb96",
   "metadata": {
    "tags": []
   },
   "outputs": [],
   "source": [
    "# computing f1 score of minority class\n",
    "recall = len(df1CAE[df1CAE.v<0])/len(df1CAE)\n",
    "precision = len(df1CAE[df1CAE.v<0])/(len(df1CAE[df1CAE.v<0])+len(df0CAE[df0CAE.v<0]))\n",
    "f1 = 2*precision*recall/(precision+recall)"
   ]
  },
  {
   "cell_type": "code",
   "execution_count": null,
   "id": "4022d23c",
   "metadata": {
    "tags": []
   },
   "outputs": [],
   "source": [
    "# computing f1 score of majority class\n",
    "recall_maj = len(df0CAE[df0CAE.v>0])/len(df0CAE)\n",
    "precision_maj = len(df0CAE[df0CAE.v>0])/(len(df1CAE[df1CAE.v>0])+len(df0CAE[df0CAE.v>0]))\n",
    "f1_maj = 2*precision_maj*recall_maj/(precision_maj+recall_maj)"
   ]
  },
  {
   "cell_type": "markdown",
   "id": "e88827fb",
   "metadata": {
    "tags": []
   },
   "source": [
    "### Test score"
   ]
  },
  {
   "cell_type": "code",
   "execution_count": null,
   "id": "7af267c0",
   "metadata": {
    "tags": []
   },
   "outputs": [],
   "source": [
    "print(f\"Test scores:\")\n",
    "print(f\"minority class F1 score {f1}\")\n",
    "print(f\"majority class F1 score {f1_maj}\")\n",
    "print(f\"average F1 score {(f1+f1_maj)/2}\")"
   ]
  }
 ],
 "metadata": {
  "kernelspec": {
   "display_name": "autopytorch",
   "language": "python",
   "name": "autopytorch"
  },
  "language_info": {
   "codemirror_mode": {
    "name": "ipython",
    "version": 3
   },
   "file_extension": ".py",
   "mimetype": "text/x-python",
   "name": "python",
   "nbconvert_exporter": "python",
   "pygments_lexer": "ipython3",
   "version": "3.8.13"
  }
 },
 "nbformat": 4,
 "nbformat_minor": 5
}
