{
 "cells": [
  {
   "cell_type": "code",
   "execution_count": 1,
   "id": "1cd449be-32a0-488e-b916-f66a2f106157",
   "metadata": {
    "tags": []
   },
   "outputs": [
    {
     "name": "stderr",
     "output_type": "stream",
     "text": [
      "2023-06-08 18:05:39.581619: I tensorflow/core/util/port.cc:110] oneDNN custom operations are on. You may see slightly different numerical results due to floating-point round-off errors from different computation orders. To turn them off, set the environment variable `TF_ENABLE_ONEDNN_OPTS=0`.\n",
      "2023-06-08 18:05:39.582911: I tensorflow/tsl/cuda/cudart_stub.cc:28] Could not find cuda drivers on your machine, GPU will not be used.\n",
      "2023-06-08 18:05:39.606197: I tensorflow/tsl/cuda/cudart_stub.cc:28] Could not find cuda drivers on your machine, GPU will not be used.\n",
      "2023-06-08 18:05:39.606663: I tensorflow/core/platform/cpu_feature_guard.cc:182] This TensorFlow binary is optimized to use available CPU instructions in performance-critical operations.\n",
      "To enable the following instructions: AVX2 AVX_VNNI FMA, in other operations, rebuild TensorFlow with the appropriate compiler flags.\n",
      "2023-06-08 18:05:39.989132: W tensorflow/compiler/tf2tensorrt/utils/py_utils.cc:38] TF-TRT Warning: Could not find TensorRT\n"
     ]
    }
   ],
   "source": [
    "import os \n",
    "import time\n",
    "import pandas as pd\n",
    "\n",
    "\n",
    "import keras \n",
    "import tensorflow as tf\n",
    "from keras import Sequential\n",
    "from keras.layers import LSTM\n",
    "from keras.layers import Dense\n",
    "from keras.layers import BatchNormalization\n",
    "from keras.layers import TimeDistributed\n",
    "from keras.models import Model\n",
    "from keras.layers import Conv2D\n",
    "from keras.layers import LeakyReLU\n",
    "from keras.layers import Activation\n",
    "from keras.layers import Flatten\n",
    "from keras.layers import Reshape\n",
    "from keras.layers import Input\n",
    "from keras import layers\n",
    "\n",
    "from keras import backend as K\n",
    "import numpy as np\n",
    "import librosa\n",
    "import matplotlib.pyplot as plt\n",
    "import librosa.display\n",
    "\n",
    "from sklearn.preprocessing import MinMaxScaler\n",
    "from sklearn.metrics import f1_score"
   ]
  },
  {
   "attachments": {},
   "cell_type": "markdown",
   "id": "e4fef452",
   "metadata": {},
   "source": [
    "# Data import"
   ]
  },
  {
   "cell_type": "code",
   "execution_count": 2,
   "id": "ac79001a-8c89-46c9-a57d-024218106ae4",
   "metadata": {
    "tags": []
   },
   "outputs": [],
   "source": [
    "train_data = pd.read_csv('./dataset/VF9CP2F3XBA142893.csv', index_col='ts')\n",
    "test_data = pd.read_csv('./dataset/VF9BE896727200531.csv', index_col='ts')"
   ]
  },
  {
   "cell_type": "code",
   "execution_count": 3,
   "id": "b3b531eb-a624-4527-86be-59c03bd1d24f",
   "metadata": {
    "tags": []
   },
   "outputs": [
    {
     "data": {
      "text/plain": [
       "<Axes: xlabel='ts'>"
      ]
     },
     "execution_count": 3,
     "metadata": {},
     "output_type": "execute_result"
    },
    {
     "data": {
      "image/png": "[encoded data removed]",
      "text/plain": [
       "<Figure size 640x480 with 1 Axes>"
      ]
     },
     "metadata": {},
     "output_type": "display_data"
    }
   ],
   "source": [
    "train_data['sensor_1'].plot()\n",
    "test_data['sensor_1'].plot()"
   ]
  },
  {
   "attachments": {},
   "cell_type": "markdown",
   "id": "4d158bd2",
   "metadata": {},
   "source": [
    "# Motor vibration acquisition error"
   ]
  },
  {
   "attachments": {},
   "cell_type": "markdown",
   "id": "e9e85996-ecd2-44a4-8de9-a4f68a269efb",
   "metadata": {},
   "source": [
    "## Model setup (LSTM AutoEncodeur)"
   ]
  },
  {
   "cell_type": "code",
   "execution_count": 4,
   "id": "1a1122e6-a391-4afe-b5a1-61e223a6b205",
   "metadata": {
    "tags": []
   },
   "outputs": [],
   "source": [
    "def LSTMAE(nb_entries, width, loss=\"MSE\"):\n",
    "        \"\"\"\n",
    "        Sets up the architecture that will be used for the autoencoder\n",
    "    \n",
    "            Parameters: \n",
    "        \n",
    "                nb_entries: an integer representing the number of rows of the spectrograms images\n",
    "                width: an integer representing the number of columns of the spectrograms images\n",
    "        \n",
    "            Returns:\n",
    "                model: convolutional autoencoder\n",
    "        \"\"\"\n",
    "        valid_shape = (width, nb_entries)\n",
    "        model = Sequential()\n",
    "        model.add(LSTM(64, activation='relu', input_shape=valid_shape, return_sequences=True))\n",
    "        model.add(Dense(32, activation='relu'))\n",
    "        model.add(Dense(units=10,activation=\"relu\", name=\"latent\"))\n",
    "        model.add(BatchNormalization())\n",
    "        model.add(Dense(32, activation='relu'))\n",
    "        model.add(LSTM(64, activation='sigmoid', return_sequences=True))\n",
    "        model.add(TimeDistributed(Dense(nb_entries)))\n",
    "        optimizer = tf.compat.v1.train.AdamOptimizer(learning_rate=0.01)\n",
    "        model.compile(optimizer=optimizer, loss=loss)\n",
    "        return model"
   ]
  },
  {
   "attachments": {},
   "cell_type": "markdown",
   "id": "c1ce5ccb-0669-45aa-a29b-07974fef37ba",
   "metadata": {},
   "source": [
    "## Data preprocessing"
   ]
  },
  {
   "cell_type": "code",
   "execution_count": 5,
   "id": "094ecab8-de28-4da8-a515-4e6759c0b40d",
   "metadata": {
    "tags": []
   },
   "outputs": [],
   "source": [
    "def build_rolling_data(data,window):\n",
    "    rolling_data = np.lib.stride_tricks.as_strided(data, (len(data) - window + 1, window),(data.strides[0], data.strides[0]))\n",
    "    rolling_data = tf.expand_dims(rolling_data,axis=-1)\n",
    "    return rolling_data"
   ]
  },
  {
   "cell_type": "code",
   "execution_count": 6,
   "id": "fbb4ae77-13e3-4b65-ad65-ec4861770ac6",
   "metadata": {
    "tags": []
   },
   "outputs": [],
   "source": [
    "WINDOW_SIZE = 30\n",
    "scaler = MinMaxScaler() # instanciating a scaler \n",
    "# minmax scaler formula X_scaled = X-min(X) / max(X)-min(X)\n",
    "# Scales data between 0 and 1\n",
    "data_train = train_data['sensor_1'].values\n",
    "data_test = test_data['sensor_1'].values\n",
    "scaler.fit(data_train.reshape(-1,1))\n",
    "normalized_train_data = scaler.transform(data_train.reshape(-1,1))\n",
    "normalized_test_data = scaler.transform(data_test.reshape(-1,1))"
   ]
  },
  {
   "cell_type": "code",
   "execution_count": 7,
   "id": "b0438df6-2cf3-4fa2-9b98-b7b7944ccb4c",
   "metadata": {
    "tags": []
   },
   "outputs": [],
   "source": [
    "# Build LSTM AutoEncoder for unidimentional time series\n",
    "model = LSTMAE(1, WINDOW_SIZE)"
   ]
  },
  {
   "cell_type": "code",
   "execution_count": 8,
   "id": "abc8068f-e06e-4d13-a2fc-7dcb9b4ca1c4",
   "metadata": {
    "tags": []
   },
   "outputs": [],
   "source": [
    "rolling_normalized_data = build_rolling_data(normalized_train_data,WINDOW_SIZE)"
   ]
  },
  {
   "cell_type": "code",
   "execution_count": 9,
   "id": "4ae961c2-6f0c-43b1-9fdd-a568742abc95",
   "metadata": {
    "tags": []
   },
   "outputs": [
    {
     "name": "stdout",
     "output_type": "stream",
     "text": [
      "Epoch 1/20\n",
      "391/391 [==============================] - 10s 23ms/step - loss: 0.0031\n",
      "Epoch 2/20\n",
      "391/391 [==============================] - 9s 23ms/step - loss: 1.6159e-05\n",
      "Epoch 3/20\n",
      "391/391 [==============================] - 9s 23ms/step - loss: 3.6595e-05\n",
      "Epoch 4/20\n",
      "391/391 [==============================] - 9s 23ms/step - loss: 1.1021e-05\n",
      "Epoch 5/20\n",
      "391/391 [==============================] - 9s 23ms/step - loss: 1.8855e-06\n",
      "Epoch 6/20\n",
      "391/391 [==============================] - 9s 23ms/step - loss: 1.4492e-06\n",
      "Epoch 7/20\n",
      "391/391 [==============================] - 9s 22ms/step - loss: 1.4317e-06\n",
      "Epoch 8/20\n",
      "391/391 [==============================] - 9s 23ms/step - loss: 3.1807e-06\n",
      "Epoch 9/20\n",
      "391/391 [==============================] - 9s 23ms/step - loss: 2.1652e-05\n",
      "Epoch 10/20\n",
      "391/391 [==============================] - 9s 23ms/step - loss: 2.8840e-05\n",
      "Epoch 11/20\n",
      "391/391 [==============================] - 9s 23ms/step - loss: 2.6037e-05\n",
      "Epoch 12/20\n",
      "391/391 [==============================] - 9s 23ms/step - loss: 2.7501e-05\n",
      "Epoch 13/20\n",
      "391/391 [==============================] - 9s 23ms/step - loss: 2.3574e-05\n",
      "Epoch 14/20\n",
      "391/391 [==============================] - 9s 23ms/step - loss: 2.3220e-05\n",
      "Epoch 15/20\n",
      "391/391 [==============================] - 9s 23ms/step - loss: 2.0463e-05\n",
      "Epoch 16/20\n",
      "391/391 [==============================] - 9s 23ms/step - loss: 1.8259e-05\n",
      "Epoch 17/20\n",
      "391/391 [==============================] - 9s 23ms/step - loss: 1.6300e-05\n",
      "Epoch 18/20\n",
      "391/391 [==============================] - 9s 23ms/step - loss: 1.7349e-05\n",
      "Epoch 19/20\n",
      "391/391 [==============================] - 9s 23ms/step - loss: 1.3578e-05\n",
      "Epoch 20/20\n",
      "391/391 [==============================] - 9s 23ms/step - loss: 1.4675e-05\n",
      "model trained in 3.0056526184082033 minutes\n"
     ]
    }
   ],
   "source": [
    "start = time.time()\n",
    "model.fit(rolling_normalized_data,rolling_normalized_data,epochs= 20, verbose = True, batch_size=128)\n",
    "print(f\"model trained in {(time.time()-start)/60} minutes\")"
   ]
  },
  {
   "attachments": {},
   "cell_type": "markdown",
   "id": "9c0ae0bd-5eee-460c-a7b7-ed915359a61a",
   "metadata": {},
   "source": [
    "## Prediction "
   ]
  },
  {
   "cell_type": "code",
   "execution_count": 10,
   "id": "305d3eb4-52dc-4921-9ec7-572c2f349a3a",
   "metadata": {
    "tags": []
   },
   "outputs": [],
   "source": [
    "def predict_anomalies(model,data, sigma):\n",
    "    rolling_data = build_rolling_data(data,WINDOW_SIZE)\n",
    "    predicted = model.predict(rolling_data)\n",
    "    reconstruction_error = np.mean((rolling_data-predicted)**2, axis =1)\n",
    "    # the threshold is the  average of reconstruction error + 3 std reconstruction error\n",
    "    # The predicted anomalies are the points with a decision inferior to 0 <=> reconstruction error > threshold\n",
    "    decision = -reconstruction_error + np.mean(reconstruction_error)+sigma*np.std(reconstruction_error)\n",
    "    padding = [0]*(len(data)-len(decision)) # creating a padding for the decision list to match size of initial data\n",
    "    return list(decision.flatten()) + padding\n"
   ]
  },
  {
   "cell_type": "code",
   "execution_count": null,
   "id": "2ea3289a-424b-4f48-864b-33217e1b0ff5",
   "metadata": {
    "tags": []
   },
   "outputs": [],
   "source": []
  },
  {
   "cell_type": "code",
   "execution_count": 13,
   "id": "bbcb2058-24be-4a12-b453-6e68034bc5d5",
   "metadata": {
    "tags": []
   },
   "outputs": [
    {
     "name": "stdout",
     "output_type": "stream",
     "text": [
      "1562/1562 [==============================] - 7s 4ms/step\n"
     ]
    }
   ],
   "source": [
    "train_data['predict'] = predict_anomalies(model,normalized_test_data,1.5)\n",
    "# the anomalies are the points with an initial predict value inferior to 0\n",
    "train_data['predict'] = train_data['predict'].apply(lambda x : 25 if x < 0 else 0)"
   ]
  },
  {
   "cell_type": "code",
   "execution_count": 14,
   "id": "dc0362d4-6dd2-4485-a386-326c303efb2d",
   "metadata": {
    "tags": []
   },
   "outputs": [
    {
     "data": {
      "text/plain": [
       "<Axes: xlabel='ts'>"
      ]
     },
     "execution_count": 14,
     "metadata": {},
     "output_type": "execute_result"
    },
    {
     "data": {
      "image/png": "[encoded data removed]",
      "text/plain": [
       "<Figure size 640x480 with 1 Axes>"
      ]
     },
     "metadata": {},
     "output_type": "display_data"
    }
   ],
   "source": [
    "train_data[['sensor_1','predict']].plot()"
   ]
  },
  {
   "cell_type": "code",
   "execution_count": 15,
   "id": "6673195b-3075-4d50-8c9f-58ef4030a86d",
   "metadata": {
    "tags": []
   },
   "outputs": [
    {
     "name": "stdout",
     "output_type": "stream",
     "text": [
      "1562/1562 [==============================] - 7s 4ms/step\n"
     ]
    }
   ],
   "source": [
    "test_data['predict']= predict_anomalies(model,normalized_test_data,1.5)\n",
    "# the anomalies are the points with an initial predict value inferior to 0\n",
    "# make the prediction visible by setting normal predicted values to zero and predicted anomalies to 25 ( for visibility in the visual validation ) \n",
    "test_data['predict'] = test_data['predict'].apply(lambda x : 25 if x < 0 else 0)"
   ]
  },
  {
   "cell_type": "code",
   "execution_count": 16,
   "id": "3bb39543-e8e9-4cd4-bd2b-ab3b7afa39c2",
   "metadata": {
    "tags": []
   },
   "outputs": [
    {
     "data": {
      "text/plain": [
       "<Axes: xlabel='ts'>"
      ]
     },
     "execution_count": 16,
     "metadata": {},
     "output_type": "execute_result"
    },
    {
     "data": {
      "image/png": "[encoded data removed]",
      "text/plain": [
       "<Figure size 640x480 with 1 Axes>"
      ]
     },
     "metadata": {},
     "output_type": "display_data"
    }
   ],
   "source": [
    "test_data[['sensor_1','predict']].plot()"
   ]
  },
  {
   "cell_type": "code",
   "execution_count": null,
   "id": "5e3a5c03",
   "metadata": {},
   "outputs": [],
   "source": []
  }
 ],
 "metadata": {
  "kernelspec": {
   "display_name": "Python 3 (ipykernel)",
   "language": "python",
   "name": "python3"
  },
  "language_info": {
   "codemirror_mode": {
    "name": "ipython",
    "version": 3
   },
   "file_extension": ".py",
   "mimetype": "text/x-python",
   "name": "python",
   "nbconvert_exporter": "python",
   "pygments_lexer": "ipython3",
   "version": "3.10.6"
  }
 },
 "nbformat": 4,
 "nbformat_minor": 5
}
