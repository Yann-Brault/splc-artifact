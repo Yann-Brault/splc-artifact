{
 "cells": [
  {
   "cell_type": "code",
   "execution_count": null,
   "id": "67ac008b",
   "metadata": {},
   "outputs": [],
   "source": [
    "from sklearn.preprocessing import MinMaxScaler\n"
   ]
  },
  {
   "cell_type": "markdown",
   "id": "1487db85",
   "metadata": {},
   "source": [
    "# Data import cell\n",
    "To import your data, add a code cell to import it as you want\n",
    "\n"
   ]
  },
  {
   "cell_type": "code",
   "execution_count": null,
   "id": "4228f4ed",
   "metadata": {},
   "outputs": [],
   "source": [
    "from sklearn.model_selection import train_test_split\n",
    "\n",
    "x_train, x_test, y_train, y_test = train_test_split(x, y, test_size=0.2, random_state=1)\n",
    "x_train, x_val, y_train, y_val = train_test_split(x_train, y_train, test_size=0.25, random_state=1)\n"
   ]
  },
  {
   "cell_type": "markdown",
   "id": "3e7c3f94",
   "metadata": {},
   "source": [
    "# Train\n"
   ]
  },
  {
   "cell_type": "code",
   "execution_count": null,
   "id": "c50a41c0",
   "metadata": {},
   "outputs": [],
   "source": [
    "# Data treatment\n",
    "# Normalization/MinMaxScaler\n",
    "\n",
    "def scaler_train(obj, x_data):\n",
    "    obj.fit(x_data)\n",
    "    return obj.transform(x_data)\n",
    "\n",
    "scaler = MinMaxScaler()\n",
    "x_train_normalized = scaler_train(scaler, x_train)"
   ]
  },
  {
   "cell_type": "markdown",
   "id": "a36d4822",
   "metadata": {},
   "source": [
    "# Valid\n"
   ]
  },
  {
   "cell_type": "code",
   "execution_count": null,
   "id": "4a6bd09c",
   "metadata": {},
   "outputs": [],
   "source": [
    "# Data treatment\n",
    "# Normalization/MinMaxScaler\n",
    "\n",
    "def scaler_valid(obj, x_data):\n",
    "    return obj.transform(x_data)\n",
    "\n",
    "x_valid_normalized = scaler_valid(scaler, x_val)"
   ]
  },
  {
   "cell_type": "markdown",
   "id": "1cd9dc9d",
   "metadata": {},
   "source": [
    "# Test\n"
   ]
  },
  {
   "cell_type": "code",
   "execution_count": null,
   "id": "b1bcd3f0",
   "metadata": {},
   "outputs": [],
   "source": [
    "# Data treatment\n",
    "# Normalization/MinMaxScaler\n",
    "\n",
    "def scaler_test(obj, x_data):\n",
    "    return obj.transform(x_data)\n",
    "\n",
    "x_test_normalized = scaler_test(scaler, x_test)"
   ]
  }
 ],
 "metadata": {},
 "nbformat": 4,
 "nbformat_minor": 5
}
