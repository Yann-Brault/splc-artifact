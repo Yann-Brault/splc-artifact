{
 "cells": [
  {
   "cell_type": "code",
   "execution_count": null,
   "id": "0317aebc",
   "metadata": {},
   "outputs": [],
   "source": [
    "from sklearn.preprocessing import RobustScaler\n",
    "from sklearn.svm import OneClassSVM\n"
   ]
  },
  {
   "cell_type": "markdown",
   "id": "e0da9c09",
   "metadata": {},
   "source": [
    "# Data import cell\n",
    "To import your data, add a code cell to import it as you want\n",
    "\n"
   ]
  },
  {
   "cell_type": "code",
   "execution_count": null,
   "id": "a0a64535",
   "metadata": {},
   "outputs": [],
   "source": [
    "from sklearn.model_selection import train_test_split\n",
    "\n",
    "x_train, x_test, y_train, y_test = train_test_split(x, y, test_size=0.2, random_state=1)\n",
    "x_train, x_val, y_train, y_val = train_test_split(x_train, y_train, test_size=0.25, random_state=1)\n"
   ]
  },
  {
   "cell_type": "markdown",
   "id": "8de248ba",
   "metadata": {},
   "source": [
    "# Train\n"
   ]
  },
  {
   "cell_type": "code",
   "execution_count": null,
   "id": "61955bb7",
   "metadata": {},
   "outputs": [],
   "source": [
    "# Data treatment\n",
    "# Normalization/RobustScaler\n",
    "\n",
    "def transformer_train(obj, x_data):\n",
    "    obj.fit(x_data)\n",
    "    return obj.transform(x_data)\n",
    "\n",
    "transformer = RobustScaler()\n",
    "x_train_normalized = transformer_train(transformer, x_train)"
   ]
  },
  {
   "cell_type": "code",
   "execution_count": null,
   "id": "a10613c0",
   "metadata": {},
   "outputs": [],
   "source": [
    "# Model training\n",
    "# Algo/OCSVM\n",
    "\n",
    "def clf_train(obj, x_data):\n",
    "    return obj.fit(x_data)\n",
    "\n",
    "clf = OneClassSVM(gamma='auto')\n",
    "model = clf_train(clf, x_train_transformed)"
   ]
  },
  {
   "cell_type": "markdown",
   "id": "02a9aded",
   "metadata": {},
   "source": [
    "# Valid\n"
   ]
  },
  {
   "cell_type": "code",
   "execution_count": null,
   "id": "6dc5e16d",
   "metadata": {},
   "outputs": [],
   "source": [
    "# Data treatment\n",
    "# Normalization/RobustScaler\n",
    "\n",
    "def transformer_valid(obj, x_data):\n",
    "    return obj.transform(x_data)\n",
    "\n",
    "x_valid_normalized = transformer_valid(transformer, x_val)"
   ]
  },
  {
   "cell_type": "code",
   "execution_count": null,
   "id": "d513ef20",
   "metadata": {},
   "outputs": [],
   "source": [
    "# Prediction\n",
    "# Algo/OCSVM\n",
    "\n",
    "def clf_predict(obj, x_data):\n",
    "    return obj.predict(x_data)\n",
    "\n",
    "y_pred_valid = clf_predict(clf, x_valid_transformed)"
   ]
  },
  {
   "cell_type": "markdown",
   "id": "d98a2054",
   "metadata": {},
   "source": [
    "# Test\n"
   ]
  },
  {
   "cell_type": "code",
   "execution_count": null,
   "id": "8d150b97",
   "metadata": {},
   "outputs": [],
   "source": [
    "# Data treatment\n",
    "# Normalization/RobustScaler\n",
    "\n",
    "def transformer_test(obj, x_data):\n",
    "    return obj.transform(x_data)\n",
    "\n",
    "x_test_normalized = transformer_test(transformer, x_test)"
   ]
  },
  {
   "cell_type": "code",
   "execution_count": null,
   "id": "185ca861",
   "metadata": {},
   "outputs": [],
   "source": [
    "# Prediction\n",
    "# Algo/OCSVM\n",
    "\n",
    "def clf_predict(obj, x_data):\n",
    "    return obj.predict(x_data)\n",
    "\n",
    "y_pred = clf_predict(clf, x_test_transformed)"
   ]
  }
 ],
 "metadata": {},
 "nbformat": 4,
 "nbformat_minor": 5
}
